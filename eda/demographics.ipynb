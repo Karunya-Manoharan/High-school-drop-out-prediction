{
 "cells": [
  {
   "cell_type": "code",
   "execution_count": 58,
   "metadata": {},
   "outputs": [],
   "source": [
    "%matplotlib inline\n",
    "import matplotlib\n",
    "matplotlib.rcParams['font.size'] = 24\n",
    "import matplotlib.pyplot as plt\n",
    "import pandas as pd\n",
    "import psycopg2 as pg\n",
    "import seaborn as sns"
   ]
  },
  {
   "cell_type": "code",
   "execution_count": 74,
   "metadata": {},
   "outputs": [],
   "source": [
    "conn = pg.connect(host=\"mlpolicylab.db.dssg.io\", dbname=\"schools2_database\")\n",
    "cursor = conn.cursor()"
   ]
  },
  {
   "cell_type": "code",
   "execution_count": 75,
   "metadata": {},
   "outputs": [],
   "source": [
    "distinct_ct_query = \"SELECT {0}, COUNT(*) AS num FROM clean.all_snapshots GROUP BY {0};\"\n",
    "normal_query = \"SELECT * FROM clean.all_snapshots;\"\n",
    "col_names = ['district', 'gender', 'ethnicity']"
   ]
  },
  {
   "cell_type": "code",
   "execution_count": 89,
   "metadata": {},
   "outputs": [
    {
     "name": "stdout",
     "output_type": "stream",
     "text": [
      "259946\n",
      "\\begin{tabular}{lr}\n",
      "\\toprule\n",
      "              district &  Proportion \\\\\n",
      "\\midrule\n",
      "             Coshocton &       0.078 \\\\\n",
      "           Crooksville &       0.031 \\\\\n",
      "        East Muskingum &       0.056 \\\\\n",
      "              Franklin &       0.097 \\\\\n",
      "         Logan\\_Hocking &       0.085 \\\\\n",
      "             Maysville &       0.101 \\\\\n",
      "                Morgan &       0.034 \\\\\n",
      " New Lexington City SD &       0.042 \\\\\n",
      "     Northern Local SD &       0.044 \\\\\n",
      "             Ridgewood &       0.052 \\\\\n",
      "             Riverview &       0.096 \\\\\n",
      "             TriValley &       0.136 \\\\\n",
      "        West Muskingum &       0.073 \\\\\n",
      "            Zanesville &       0.076 \\\\\n",
      "                  None &       0.000 \\\\\n",
      "\\bottomrule\n",
      "\\end{tabular}\n",
      "\n",
      "259946\n",
      "\\begin{tabular}{lr}\n",
      "\\toprule\n",
      "gender &  Proportion \\\\\n",
      "\\midrule\n",
      "     F &       0.483 \\\\\n",
      "     M &       0.517 \\\\\n",
      "  None &       0.000 \\\\\n",
      "\\bottomrule\n",
      "\\end{tabular}\n",
      "\n",
      "259946\n",
      "\\begin{tabular}{lr}\n",
      "\\toprule\n",
      "ethnicity &  Proportion \\\\\n",
      "\\midrule\n",
      "        A &       0.004 \\\\\n",
      "        B &       0.018 \\\\\n",
      "        H &       0.005 \\\\\n",
      "        I &       0.001 \\\\\n",
      "        M &       0.043 \\\\\n",
      "        W &       0.926 \\\\\n",
      "     None &       0.003 \\\\\n",
      "\\bottomrule\n",
      "\\end{tabular}\n",
      "\n"
     ]
    }
   ],
   "source": [
    "for name in col_names:\n",
    "    query = distinct_ct_query.format(name)\n",
    "    cursor.execute(query)\n",
    "    items = cursor.fetchall()\n",
    "    # print(items).to_latex(float_format=\"{:0.2f}\"))\n",
    "    table = pd.DataFrame.from_records([{name: key, 'count': ct } for key, ct in items])\n",
    "    table['Proportion'] = table['count'] / table['count'].sum()\n",
    "    print(table['count'].sum())\n",
    "    table.drop(['count'], axis=1, inplace=True)\n",
    "    print(table.to_latex(float_format=\"{:.3f}\".format, index=False))"
   ]
  },
  {
   "cell_type": "code",
   "execution_count": null,
   "metadata": {},
   "outputs": [],
   "source": []
  },
  {
   "cell_type": "code",
   "execution_count": null,
   "metadata": {},
   "outputs": [],
   "source": []
  }
 ],
 "metadata": {
  "kernelspec": {
   "display_name": "Python 3",
   "language": "python",
   "name": "python3"
  },
  "language_info": {
   "codemirror_mode": {
    "name": "ipython",
    "version": 3
   },
   "file_extension": ".py",
   "mimetype": "text/x-python",
   "name": "python",
   "nbconvert_exporter": "python",
   "pygments_lexer": "ipython3",
   "version": "3.7.9"
  }
 },
 "nbformat": 4,
 "nbformat_minor": 4
}
