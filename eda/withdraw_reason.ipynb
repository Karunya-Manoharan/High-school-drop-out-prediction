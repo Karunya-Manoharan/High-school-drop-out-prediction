{
 "metadata": {
  "language_info": {
   "codemirror_mode": {
    "name": "ipython",
    "version": 3
   },
   "file_extension": ".py",
   "mimetype": "text/x-python",
   "name": "python",
   "nbconvert_exporter": "python",
   "pygments_lexer": "ipython3",
   "version": "3.7.5-final"
  },
  "orig_nbformat": 2,
  "kernelspec": {
   "name": "schools2",
   "display_name": "schools2"
  }
 },
 "nbformat": 4,
 "nbformat_minor": 2,
 "cells": [
  {
   "cell_type": "code",
   "execution_count": 1,
   "metadata": {},
   "outputs": [],
   "source": [
    "import sys\n",
    "import psycopg2 as pg2  # Preferred cursor connection\n",
    "from sqlalchemy import create_engine  # preferred for pushing back to DB\n",
    "import yaml\n",
    "import pandas as pd\n",
    "import numpy as np"
   ]
  },
  {
   "cell_type": "code",
   "execution_count": 2,
   "metadata": {},
   "outputs": [],
   "source": [
    "# Might need your own path...\n",
    "with open('/data/users/dschnelb/secrets.yaml', 'r') as f:\n",
    "        # loads contents of secrets.yaml into a python dictionary\n",
    "        secret_config = yaml.safe_load(f.read())\n",
    "\n",
    "# Set database connection to `conn`\n",
    "db_params = secret_config['db']\n",
    "conn = pg2.connect(host=db_params['host'],\n",
    "                    port=db_params['port'],\n",
    "                    dbname=db_params['dbname'],\n",
    "                    user=db_params['user'],\n",
    "                    password=db_params['password'])\n",
    "\n",
    "# Connect cursor with psycopg2 database connection\n",
    "cur = conn.cursor()"
   ]
  },
  {
   "source": [
    "# Raw data for all_snapshots, student at grade 10 and above\n",
    "\n",
    "## use DataFrame `raw`"
   ],
   "cell_type": "markdown",
   "metadata": {}
  },
  {
   "cell_type": "code",
   "execution_count": 3,
   "metadata": {},
   "outputs": [
    {
     "output_type": "execute_result",
     "data": {
      "text/plain": [
       "   student_lookup    district school_code  grade  school_year  birth_date  \\\n",
       "0              46   TriValley        TVHS     12         2014  1996-12-01   \n",
       "1             538  Zanesville        None     10         2011  1995-04-01   \n",
       "2             558  Zanesville        None     11         2013  1996-09-01   \n",
       "3             584  Zanesville        None     11         2011  1993-05-01   \n",
       "4             629  Zanesville        None     11         2011  1993-02-01   \n",
       "\n",
       "      city  days_absent  days_absent_excused  days_absent_unexcused  ...  \\\n",
       "0  dresden         81.5                  7.0                   74.5  ...   \n",
       "1     None          NaN                  NaN                    NaN  ...   \n",
       "2     None         29.0                  NaN                    NaN  ...   \n",
       "3     None          NaN                  NaN                    NaN  ...   \n",
       "4     None          NaN                  NaN                    NaN  ...   \n",
       "\n",
       "   special_ed state           street street2   withdraw_reason  \\\n",
       "0        None    OH  11955 Bottom Rd    None  did not withdraw   \n",
       "1        None  None             None    None              None   \n",
       "2        None  None             None    None              None   \n",
       "3        None  None             None    None              None   \n",
       "4        None  None             None    None              None   \n",
       "\n",
       "  withdrawn_to_irn         zip           status     street_clean      id  \n",
       "0             None  43821-9423           active  11955 Bottom Rd    2557  \n",
       "1             None        None  open_enrollment             None    4094  \n",
       "2             None        None  open_enrollment             None  161648  \n",
       "3             None        None  open_enrollment             None    4287  \n",
       "4             None        None  open_enrollment             None    4479  \n",
       "\n",
       "[5 rows x 36 columns]"
      ],
      "text/html": "<div>\n<style scoped>\n    .dataframe tbody tr th:only-of-type {\n        vertical-align: middle;\n    }\n\n    .dataframe tbody tr th {\n        vertical-align: top;\n    }\n\n    .dataframe thead th {\n        text-align: right;\n    }\n</style>\n<table border=\"1\" class=\"dataframe\">\n  <thead>\n    <tr style=\"text-align: right;\">\n      <th></th>\n      <th>student_lookup</th>\n      <th>district</th>\n      <th>school_code</th>\n      <th>grade</th>\n      <th>school_year</th>\n      <th>birth_date</th>\n      <th>city</th>\n      <th>days_absent</th>\n      <th>days_absent_excused</th>\n      <th>days_absent_unexcused</th>\n      <th>...</th>\n      <th>special_ed</th>\n      <th>state</th>\n      <th>street</th>\n      <th>street2</th>\n      <th>withdraw_reason</th>\n      <th>withdrawn_to_irn</th>\n      <th>zip</th>\n      <th>status</th>\n      <th>street_clean</th>\n      <th>id</th>\n    </tr>\n  </thead>\n  <tbody>\n    <tr>\n      <th>0</th>\n      <td>46</td>\n      <td>TriValley</td>\n      <td>TVHS</td>\n      <td>12</td>\n      <td>2014</td>\n      <td>1996-12-01</td>\n      <td>dresden</td>\n      <td>81.5</td>\n      <td>7.0</td>\n      <td>74.5</td>\n      <td>...</td>\n      <td>None</td>\n      <td>OH</td>\n      <td>11955 Bottom Rd</td>\n      <td>None</td>\n      <td>did not withdraw</td>\n      <td>None</td>\n      <td>43821-9423</td>\n      <td>active</td>\n      <td>11955 Bottom Rd</td>\n      <td>2557</td>\n    </tr>\n    <tr>\n      <th>1</th>\n      <td>538</td>\n      <td>Zanesville</td>\n      <td>None</td>\n      <td>10</td>\n      <td>2011</td>\n      <td>1995-04-01</td>\n      <td>None</td>\n      <td>NaN</td>\n      <td>NaN</td>\n      <td>NaN</td>\n      <td>...</td>\n      <td>None</td>\n      <td>None</td>\n      <td>None</td>\n      <td>None</td>\n      <td>None</td>\n      <td>None</td>\n      <td>None</td>\n      <td>open_enrollment</td>\n      <td>None</td>\n      <td>4094</td>\n    </tr>\n    <tr>\n      <th>2</th>\n      <td>558</td>\n      <td>Zanesville</td>\n      <td>None</td>\n      <td>11</td>\n      <td>2013</td>\n      <td>1996-09-01</td>\n      <td>None</td>\n      <td>29.0</td>\n      <td>NaN</td>\n      <td>NaN</td>\n      <td>...</td>\n      <td>None</td>\n      <td>None</td>\n      <td>None</td>\n      <td>None</td>\n      <td>None</td>\n      <td>None</td>\n      <td>None</td>\n      <td>open_enrollment</td>\n      <td>None</td>\n      <td>161648</td>\n    </tr>\n    <tr>\n      <th>3</th>\n      <td>584</td>\n      <td>Zanesville</td>\n      <td>None</td>\n      <td>11</td>\n      <td>2011</td>\n      <td>1993-05-01</td>\n      <td>None</td>\n      <td>NaN</td>\n      <td>NaN</td>\n      <td>NaN</td>\n      <td>...</td>\n      <td>None</td>\n      <td>None</td>\n      <td>None</td>\n      <td>None</td>\n      <td>None</td>\n      <td>None</td>\n      <td>None</td>\n      <td>open_enrollment</td>\n      <td>None</td>\n      <td>4287</td>\n    </tr>\n    <tr>\n      <th>4</th>\n      <td>629</td>\n      <td>Zanesville</td>\n      <td>None</td>\n      <td>11</td>\n      <td>2011</td>\n      <td>1993-02-01</td>\n      <td>None</td>\n      <td>NaN</td>\n      <td>NaN</td>\n      <td>NaN</td>\n      <td>...</td>\n      <td>None</td>\n      <td>None</td>\n      <td>None</td>\n      <td>None</td>\n      <td>None</td>\n      <td>None</td>\n      <td>None</td>\n      <td>open_enrollment</td>\n      <td>None</td>\n      <td>4479</td>\n    </tr>\n  </tbody>\n</table>\n<p>5 rows × 36 columns</p>\n</div>"
     },
     "metadata": {},
     "execution_count": 3
    }
   ],
   "source": [
    "qry = '''\n",
    "SELECT * from clean.all_snapshots\n",
    "where grade >= 10;\n",
    "'''\n",
    "\n",
    "cur.execute(qry)\n",
    "\n",
    "rows = cur.fetchall()\n",
    "\n",
    "# Build dataframe from rows\n",
    "raw = pd.DataFrame(rows, columns=[name[0] for name in cur.description])\n",
    "\n",
    "# Make sure student_id is an int\n",
    "raw['student_lookup'] = raw['student_lookup'].astype('int')\n",
    "\n",
    "raw.head()"
   ]
  },
  {
   "cell_type": "code",
   "execution_count": 4,
   "metadata": {},
   "outputs": [],
   "source": [
    "raw = raw.replace([None],np.nan)"
   ]
  },
  {
   "cell_type": "code",
   "execution_count": 19,
   "metadata": {},
   "outputs": [],
   "source": [
    "all_students = raw[(raw['grade']==12) & (~raw['school_year'].isin([2006, 2007, 2008]))].groupby(['district','school_year']).agg({'student_lookup':'count'})"
   ]
  },
  {
   "cell_type": "code",
   "execution_count": 20,
   "metadata": {},
   "outputs": [
    {
     "output_type": "execute_result",
     "data": {
      "text/plain": [
       "       student_lookup               district school_code  grade  school_year  \\\n",
       "12               4699             Zanesville         NaN     12         2015   \n",
       "14               6594                 Morgan         NaN     12         2015   \n",
       "16               6727                 Morgan         NaN     12         2015   \n",
       "20               7924             Zanesville         NaN     12         2011   \n",
       "38              14724             Zanesville         NaN     12         2011   \n",
       "...               ...                    ...         ...    ...          ...   \n",
       "59755          701169  New Lexington City SD           5     12         2011   \n",
       "59759          701176      Northern Local SD           3     12         2011   \n",
       "59761          701178      Northern Local SD           3     12         2011   \n",
       "59762          701179      Northern Local SD           3     12         2011   \n",
       "59766          701184  New Lexington City SD           1     12         2011   \n",
       "\n",
       "       birth_date           city  days_absent  days_absent_excused  \\\n",
       "12     1997-12-01     zanesville          NaN                  NaN   \n",
       "14     1998-01-01      stockport          NaN                  NaN   \n",
       "16     1997-12-01      stockport         17.1                  NaN   \n",
       "20     1992-04-01            NaN          NaN                  NaN   \n",
       "38     1993-04-01            NaN          NaN                  NaN   \n",
       "...           ...            ...          ...                  ...   \n",
       "59755  1994-04-01  new lexington          0.0                  NaN   \n",
       "59759  1993-02-01  new lexington          NaN                  NaN   \n",
       "59761  1993-09-01  pleasantville          NaN                  NaN   \n",
       "59762  1993-08-01       glenford          NaN                  NaN   \n",
       "59766  1993-12-01      pataskala          0.0                  NaN   \n",
       "\n",
       "       days_absent_unexcused  ...  special_ed state                 street  \\\n",
       "12                       NaN  ...         NaN    OH        834 Race Street   \n",
       "14                       NaN  ...         NaN    OH  5090 Tabor Ridge Road   \n",
       "16                       NaN  ...         NaN    OH             PO Box 463   \n",
       "20                       NaN  ...         NaN   NaN                    NaN   \n",
       "38                       NaN  ...         NaN   NaN                    NaN   \n",
       "...                      ...  ...         ...   ...                    ...   \n",
       "59755                    NaN  ...         NaN    OH             PO Box 626   \n",
       "59759                    NaN  ...         NaN    OH       813 Johnson  Ave   \n",
       "59761                    NaN  ...         NaN    OH      4355 East Main St   \n",
       "59762                    NaN  ...         NaN    OH    9980 Brownsville Rd   \n",
       "59766                    NaN  ...         NaN    OH    723 Ridgeview Drive   \n",
       "\n",
       "      street2  withdraw_reason withdrawn_to_irn    zip           status  \\\n",
       "12        NaN              NaN              NaN  43701                0   \n",
       "14        NaN              NaN              NaN  43787                7   \n",
       "16        NaN              NaN              NaN  43787                7   \n",
       "20        NaN              NaN              NaN    NaN  open_enrollment   \n",
       "38        NaN              NaN              NaN    NaN  open_enrollment   \n",
       "...       ...              ...              ...    ...              ...   \n",
       "59755     NaN              NaN              NaN  43764                7   \n",
       "59759     NaN              NaN              NaN  43764                7   \n",
       "59761     NaN              NaN              NaN  43148                7   \n",
       "59762     NaN              NaN              NaN  43739                7   \n",
       "59766     NaN              NaN              NaN  43062                6   \n",
       "\n",
       "              street_clean      id  \n",
       "12         834 Race Street  164407  \n",
       "14     5090 Tabor Ridge Rd  201936  \n",
       "16              Po Box 463  242179  \n",
       "20                     NaN   34315  \n",
       "38                     NaN   60630  \n",
       "...                    ...     ...  \n",
       "59755           Po Box 626  220840  \n",
       "59759      813 Johnson Ave  251956  \n",
       "59761       4355 E Main St  161585  \n",
       "59762  9980 Brownsville Rd  161582  \n",
       "59766     723 Ridgeview Dr  260798  \n",
       "\n",
       "[2129 rows x 36 columns]"
      ],
      "text/html": "<div>\n<style scoped>\n    .dataframe tbody tr th:only-of-type {\n        vertical-align: middle;\n    }\n\n    .dataframe tbody tr th {\n        vertical-align: top;\n    }\n\n    .dataframe thead th {\n        text-align: right;\n    }\n</style>\n<table border=\"1\" class=\"dataframe\">\n  <thead>\n    <tr style=\"text-align: right;\">\n      <th></th>\n      <th>student_lookup</th>\n      <th>district</th>\n      <th>school_code</th>\n      <th>grade</th>\n      <th>school_year</th>\n      <th>birth_date</th>\n      <th>city</th>\n      <th>days_absent</th>\n      <th>days_absent_excused</th>\n      <th>days_absent_unexcused</th>\n      <th>...</th>\n      <th>special_ed</th>\n      <th>state</th>\n      <th>street</th>\n      <th>street2</th>\n      <th>withdraw_reason</th>\n      <th>withdrawn_to_irn</th>\n      <th>zip</th>\n      <th>status</th>\n      <th>street_clean</th>\n      <th>id</th>\n    </tr>\n  </thead>\n  <tbody>\n    <tr>\n      <th>12</th>\n      <td>4699</td>\n      <td>Zanesville</td>\n      <td>NaN</td>\n      <td>12</td>\n      <td>2015</td>\n      <td>1997-12-01</td>\n      <td>zanesville</td>\n      <td>NaN</td>\n      <td>NaN</td>\n      <td>NaN</td>\n      <td>...</td>\n      <td>NaN</td>\n      <td>OH</td>\n      <td>834 Race Street</td>\n      <td>NaN</td>\n      <td>NaN</td>\n      <td>NaN</td>\n      <td>43701</td>\n      <td>0</td>\n      <td>834 Race Street</td>\n      <td>164407</td>\n    </tr>\n    <tr>\n      <th>14</th>\n      <td>6594</td>\n      <td>Morgan</td>\n      <td>NaN</td>\n      <td>12</td>\n      <td>2015</td>\n      <td>1998-01-01</td>\n      <td>stockport</td>\n      <td>NaN</td>\n      <td>NaN</td>\n      <td>NaN</td>\n      <td>...</td>\n      <td>NaN</td>\n      <td>OH</td>\n      <td>5090 Tabor Ridge Road</td>\n      <td>NaN</td>\n      <td>NaN</td>\n      <td>NaN</td>\n      <td>43787</td>\n      <td>7</td>\n      <td>5090 Tabor Ridge Rd</td>\n      <td>201936</td>\n    </tr>\n    <tr>\n      <th>16</th>\n      <td>6727</td>\n      <td>Morgan</td>\n      <td>NaN</td>\n      <td>12</td>\n      <td>2015</td>\n      <td>1997-12-01</td>\n      <td>stockport</td>\n      <td>17.1</td>\n      <td>NaN</td>\n      <td>NaN</td>\n      <td>...</td>\n      <td>NaN</td>\n      <td>OH</td>\n      <td>PO Box 463</td>\n      <td>NaN</td>\n      <td>NaN</td>\n      <td>NaN</td>\n      <td>43787</td>\n      <td>7</td>\n      <td>Po Box 463</td>\n      <td>242179</td>\n    </tr>\n    <tr>\n      <th>20</th>\n      <td>7924</td>\n      <td>Zanesville</td>\n      <td>NaN</td>\n      <td>12</td>\n      <td>2011</td>\n      <td>1992-04-01</td>\n      <td>NaN</td>\n      <td>NaN</td>\n      <td>NaN</td>\n      <td>NaN</td>\n      <td>...</td>\n      <td>NaN</td>\n      <td>NaN</td>\n      <td>NaN</td>\n      <td>NaN</td>\n      <td>NaN</td>\n      <td>NaN</td>\n      <td>NaN</td>\n      <td>open_enrollment</td>\n      <td>NaN</td>\n      <td>34315</td>\n    </tr>\n    <tr>\n      <th>38</th>\n      <td>14724</td>\n      <td>Zanesville</td>\n      <td>NaN</td>\n      <td>12</td>\n      <td>2011</td>\n      <td>1993-04-01</td>\n      <td>NaN</td>\n      <td>NaN</td>\n      <td>NaN</td>\n      <td>NaN</td>\n      <td>...</td>\n      <td>NaN</td>\n      <td>NaN</td>\n      <td>NaN</td>\n      <td>NaN</td>\n      <td>NaN</td>\n      <td>NaN</td>\n      <td>NaN</td>\n      <td>open_enrollment</td>\n      <td>NaN</td>\n      <td>60630</td>\n    </tr>\n    <tr>\n      <th>...</th>\n      <td>...</td>\n      <td>...</td>\n      <td>...</td>\n      <td>...</td>\n      <td>...</td>\n      <td>...</td>\n      <td>...</td>\n      <td>...</td>\n      <td>...</td>\n      <td>...</td>\n      <td>...</td>\n      <td>...</td>\n      <td>...</td>\n      <td>...</td>\n      <td>...</td>\n      <td>...</td>\n      <td>...</td>\n      <td>...</td>\n      <td>...</td>\n      <td>...</td>\n      <td>...</td>\n    </tr>\n    <tr>\n      <th>59755</th>\n      <td>701169</td>\n      <td>New Lexington City SD</td>\n      <td>5</td>\n      <td>12</td>\n      <td>2011</td>\n      <td>1994-04-01</td>\n      <td>new lexington</td>\n      <td>0.0</td>\n      <td>NaN</td>\n      <td>NaN</td>\n      <td>...</td>\n      <td>NaN</td>\n      <td>OH</td>\n      <td>PO Box 626</td>\n      <td>NaN</td>\n      <td>NaN</td>\n      <td>NaN</td>\n      <td>43764</td>\n      <td>7</td>\n      <td>Po Box 626</td>\n      <td>220840</td>\n    </tr>\n    <tr>\n      <th>59759</th>\n      <td>701176</td>\n      <td>Northern Local SD</td>\n      <td>3</td>\n      <td>12</td>\n      <td>2011</td>\n      <td>1993-02-01</td>\n      <td>new lexington</td>\n      <td>NaN</td>\n      <td>NaN</td>\n      <td>NaN</td>\n      <td>...</td>\n      <td>NaN</td>\n      <td>OH</td>\n      <td>813 Johnson  Ave</td>\n      <td>NaN</td>\n      <td>NaN</td>\n      <td>NaN</td>\n      <td>43764</td>\n      <td>7</td>\n      <td>813 Johnson Ave</td>\n      <td>251956</td>\n    </tr>\n    <tr>\n      <th>59761</th>\n      <td>701178</td>\n      <td>Northern Local SD</td>\n      <td>3</td>\n      <td>12</td>\n      <td>2011</td>\n      <td>1993-09-01</td>\n      <td>pleasantville</td>\n      <td>NaN</td>\n      <td>NaN</td>\n      <td>NaN</td>\n      <td>...</td>\n      <td>NaN</td>\n      <td>OH</td>\n      <td>4355 East Main St</td>\n      <td>NaN</td>\n      <td>NaN</td>\n      <td>NaN</td>\n      <td>43148</td>\n      <td>7</td>\n      <td>4355 E Main St</td>\n      <td>161585</td>\n    </tr>\n    <tr>\n      <th>59762</th>\n      <td>701179</td>\n      <td>Northern Local SD</td>\n      <td>3</td>\n      <td>12</td>\n      <td>2011</td>\n      <td>1993-08-01</td>\n      <td>glenford</td>\n      <td>NaN</td>\n      <td>NaN</td>\n      <td>NaN</td>\n      <td>...</td>\n      <td>NaN</td>\n      <td>OH</td>\n      <td>9980 Brownsville Rd</td>\n      <td>NaN</td>\n      <td>NaN</td>\n      <td>NaN</td>\n      <td>43739</td>\n      <td>7</td>\n      <td>9980 Brownsville Rd</td>\n      <td>161582</td>\n    </tr>\n    <tr>\n      <th>59766</th>\n      <td>701184</td>\n      <td>New Lexington City SD</td>\n      <td>1</td>\n      <td>12</td>\n      <td>2011</td>\n      <td>1993-12-01</td>\n      <td>pataskala</td>\n      <td>0.0</td>\n      <td>NaN</td>\n      <td>NaN</td>\n      <td>...</td>\n      <td>NaN</td>\n      <td>OH</td>\n      <td>723 Ridgeview Drive</td>\n      <td>NaN</td>\n      <td>NaN</td>\n      <td>NaN</td>\n      <td>43062</td>\n      <td>6</td>\n      <td>723 Ridgeview Dr</td>\n      <td>260798</td>\n    </tr>\n  </tbody>\n</table>\n<p>2129 rows × 36 columns</p>\n</div>"
     },
     "metadata": {},
     "execution_count": 20
    }
   ],
   "source": [
    "withdraw_na = raw[(raw['withdraw_reason'].isna()) & (raw['grade']==12) & (~raw['school_year'].isin([2006, 2007, 2008]))]\n",
    "withdraw_na"
   ]
  },
  {
   "cell_type": "code",
   "execution_count": 21,
   "metadata": {},
   "outputs": [
    {
     "output_type": "execute_result",
     "data": {
      "text/plain": [
       "                                   student_lookup\n",
       "district              school_year                \n",
       "Logan_Hocking         2011                    282\n",
       "                      2012                     16\n",
       "                      2013                      4\n",
       "                      2014                      3\n",
       "                      2015                      3\n",
       "Morgan                2012                      1\n",
       "                      2013                      4\n",
       "                      2014                      5\n",
       "                      2015                    159\n",
       "New Lexington City SD 2011                    110\n",
       "                      2012                      8\n",
       "                      2013                      2\n",
       "                      2014                     15\n",
       "                      2015                     18\n",
       "Northern Local SD     2011                    161\n",
       "                      2012                      1\n",
       "                      2013                      2\n",
       "                      2014                      9\n",
       "                      2015                    168\n",
       "Zanesville            2011                    263\n",
       "                      2012                    232\n",
       "                      2013                    232\n",
       "                      2014                    240\n",
       "                      2015                    191"
      ],
      "text/html": "<div>\n<style scoped>\n    .dataframe tbody tr th:only-of-type {\n        vertical-align: middle;\n    }\n\n    .dataframe tbody tr th {\n        vertical-align: top;\n    }\n\n    .dataframe thead th {\n        text-align: right;\n    }\n</style>\n<table border=\"1\" class=\"dataframe\">\n  <thead>\n    <tr style=\"text-align: right;\">\n      <th></th>\n      <th></th>\n      <th>student_lookup</th>\n    </tr>\n    <tr>\n      <th>district</th>\n      <th>school_year</th>\n      <th></th>\n    </tr>\n  </thead>\n  <tbody>\n    <tr>\n      <th rowspan=\"5\" valign=\"top\">Logan_Hocking</th>\n      <th>2011</th>\n      <td>282</td>\n    </tr>\n    <tr>\n      <th>2012</th>\n      <td>16</td>\n    </tr>\n    <tr>\n      <th>2013</th>\n      <td>4</td>\n    </tr>\n    <tr>\n      <th>2014</th>\n      <td>3</td>\n    </tr>\n    <tr>\n      <th>2015</th>\n      <td>3</td>\n    </tr>\n    <tr>\n      <th rowspan=\"4\" valign=\"top\">Morgan</th>\n      <th>2012</th>\n      <td>1</td>\n    </tr>\n    <tr>\n      <th>2013</th>\n      <td>4</td>\n    </tr>\n    <tr>\n      <th>2014</th>\n      <td>5</td>\n    </tr>\n    <tr>\n      <th>2015</th>\n      <td>159</td>\n    </tr>\n    <tr>\n      <th rowspan=\"5\" valign=\"top\">New Lexington City SD</th>\n      <th>2011</th>\n      <td>110</td>\n    </tr>\n    <tr>\n      <th>2012</th>\n      <td>8</td>\n    </tr>\n    <tr>\n      <th>2013</th>\n      <td>2</td>\n    </tr>\n    <tr>\n      <th>2014</th>\n      <td>15</td>\n    </tr>\n    <tr>\n      <th>2015</th>\n      <td>18</td>\n    </tr>\n    <tr>\n      <th rowspan=\"5\" valign=\"top\">Northern Local SD</th>\n      <th>2011</th>\n      <td>161</td>\n    </tr>\n    <tr>\n      <th>2012</th>\n      <td>1</td>\n    </tr>\n    <tr>\n      <th>2013</th>\n      <td>2</td>\n    </tr>\n    <tr>\n      <th>2014</th>\n      <td>9</td>\n    </tr>\n    <tr>\n      <th>2015</th>\n      <td>168</td>\n    </tr>\n    <tr>\n      <th rowspan=\"5\" valign=\"top\">Zanesville</th>\n      <th>2011</th>\n      <td>263</td>\n    </tr>\n    <tr>\n      <th>2012</th>\n      <td>232</td>\n    </tr>\n    <tr>\n      <th>2013</th>\n      <td>232</td>\n    </tr>\n    <tr>\n      <th>2014</th>\n      <td>240</td>\n    </tr>\n    <tr>\n      <th>2015</th>\n      <td>191</td>\n    </tr>\n  </tbody>\n</table>\n</div>"
     },
     "metadata": {},
     "execution_count": 21
    }
   ],
   "source": [
    "withdraw_na.groupby(['district','school_year']).agg({'student_lookup':'count'})"
   ]
  },
  {
   "cell_type": "code",
   "execution_count": 22,
   "metadata": {},
   "outputs": [
    {
     "output_type": "execute_result",
     "data": {
      "text/plain": [
       "                        student_lookup  student_lookup_na\n",
       "district   school_year                                   \n",
       "Coshocton  2009                    161                NaN\n",
       "           2010                    161                NaN\n",
       "           2011                    143                NaN\n",
       "           2012                    126                NaN\n",
       "           2013                    108                NaN\n",
       "...                                ...                ...\n",
       "Zanesville 2011                    263              263.0\n",
       "           2012                    232              232.0\n",
       "           2013                    232              232.0\n",
       "           2014                    240              240.0\n",
       "           2015                    191              191.0\n",
       "\n",
       "[85 rows x 2 columns]"
      ],
      "text/html": "<div>\n<style scoped>\n    .dataframe tbody tr th:only-of-type {\n        vertical-align: middle;\n    }\n\n    .dataframe tbody tr th {\n        vertical-align: top;\n    }\n\n    .dataframe thead th {\n        text-align: right;\n    }\n</style>\n<table border=\"1\" class=\"dataframe\">\n  <thead>\n    <tr style=\"text-align: right;\">\n      <th></th>\n      <th></th>\n      <th>student_lookup</th>\n      <th>student_lookup_na</th>\n    </tr>\n    <tr>\n      <th>district</th>\n      <th>school_year</th>\n      <th></th>\n      <th></th>\n    </tr>\n  </thead>\n  <tbody>\n    <tr>\n      <th rowspan=\"5\" valign=\"top\">Coshocton</th>\n      <th>2009</th>\n      <td>161</td>\n      <td>NaN</td>\n    </tr>\n    <tr>\n      <th>2010</th>\n      <td>161</td>\n      <td>NaN</td>\n    </tr>\n    <tr>\n      <th>2011</th>\n      <td>143</td>\n      <td>NaN</td>\n    </tr>\n    <tr>\n      <th>2012</th>\n      <td>126</td>\n      <td>NaN</td>\n    </tr>\n    <tr>\n      <th>2013</th>\n      <td>108</td>\n      <td>NaN</td>\n    </tr>\n    <tr>\n      <th>...</th>\n      <th>...</th>\n      <td>...</td>\n      <td>...</td>\n    </tr>\n    <tr>\n      <th rowspan=\"5\" valign=\"top\">Zanesville</th>\n      <th>2011</th>\n      <td>263</td>\n      <td>263.0</td>\n    </tr>\n    <tr>\n      <th>2012</th>\n      <td>232</td>\n      <td>232.0</td>\n    </tr>\n    <tr>\n      <th>2013</th>\n      <td>232</td>\n      <td>232.0</td>\n    </tr>\n    <tr>\n      <th>2014</th>\n      <td>240</td>\n      <td>240.0</td>\n    </tr>\n    <tr>\n      <th>2015</th>\n      <td>191</td>\n      <td>191.0</td>\n    </tr>\n  </tbody>\n</table>\n<p>85 rows × 2 columns</p>\n</div>"
     },
     "metadata": {},
     "execution_count": 22
    }
   ],
   "source": [
    "all_students.join(withdraw_na.groupby(['district','school_year']).agg({'student_lookup':'count'}), rsuffix='_na')"
   ]
  },
  {
   "source": [
    "# Certain districts in certain years seem to not use `withdraw_reason` for grade 12 \n",
    "\n",
    "## Zanesville simply lacks data outside of 2015, but other years where there is effectively total missingness on withdraw reason appear to have `graduation_date` listed for most students, and can likely be used as an imputation."
   ],
   "cell_type": "markdown",
   "metadata": {}
  },
  {
   "cell_type": "code",
   "execution_count": 23,
   "metadata": {},
   "outputs": [
    {
     "output_type": "execute_result",
     "data": {
      "text/plain": [
       "                                   student_lookup  student_lookup_na\n",
       "district              school_year                                   \n",
       "Logan_Hocking         2011                    282              282.0\n",
       "                      2012                    326               16.0\n",
       "                      2013                    333                4.0\n",
       "                      2014                    304                3.0\n",
       "                      2015                    330                3.0\n",
       "Morgan                2012                    153                1.0\n",
       "                      2013                    167                4.0\n",
       "                      2014                    135                5.0\n",
       "                      2015                    174              159.0\n",
       "New Lexington City SD 2011                    110              110.0\n",
       "                      2012                    151                8.0\n",
       "                      2013                    153                2.0\n",
       "                      2014                    147               15.0\n",
       "                      2015                    124               18.0\n",
       "Northern Local SD     2011                    162              161.0\n",
       "                      2012                    172                1.0\n",
       "                      2013                    150                2.0\n",
       "                      2014                    196                9.0\n",
       "                      2015                    194              168.0\n",
       "Zanesville            2011                    263              263.0\n",
       "                      2012                    232              232.0\n",
       "                      2013                    232              232.0\n",
       "                      2014                    240              240.0\n",
       "                      2015                    191              191.0"
      ],
      "text/html": "<div>\n<style scoped>\n    .dataframe tbody tr th:only-of-type {\n        vertical-align: middle;\n    }\n\n    .dataframe tbody tr th {\n        vertical-align: top;\n    }\n\n    .dataframe thead th {\n        text-align: right;\n    }\n</style>\n<table border=\"1\" class=\"dataframe\">\n  <thead>\n    <tr style=\"text-align: right;\">\n      <th></th>\n      <th></th>\n      <th>student_lookup</th>\n      <th>student_lookup_na</th>\n    </tr>\n    <tr>\n      <th>district</th>\n      <th>school_year</th>\n      <th></th>\n      <th></th>\n    </tr>\n  </thead>\n  <tbody>\n    <tr>\n      <th rowspan=\"5\" valign=\"top\">Logan_Hocking</th>\n      <th>2011</th>\n      <td>282</td>\n      <td>282.0</td>\n    </tr>\n    <tr>\n      <th>2012</th>\n      <td>326</td>\n      <td>16.0</td>\n    </tr>\n    <tr>\n      <th>2013</th>\n      <td>333</td>\n      <td>4.0</td>\n    </tr>\n    <tr>\n      <th>2014</th>\n      <td>304</td>\n      <td>3.0</td>\n    </tr>\n    <tr>\n      <th>2015</th>\n      <td>330</td>\n      <td>3.0</td>\n    </tr>\n    <tr>\n      <th rowspan=\"4\" valign=\"top\">Morgan</th>\n      <th>2012</th>\n      <td>153</td>\n      <td>1.0</td>\n    </tr>\n    <tr>\n      <th>2013</th>\n      <td>167</td>\n      <td>4.0</td>\n    </tr>\n    <tr>\n      <th>2014</th>\n      <td>135</td>\n      <td>5.0</td>\n    </tr>\n    <tr>\n      <th>2015</th>\n      <td>174</td>\n      <td>159.0</td>\n    </tr>\n    <tr>\n      <th rowspan=\"5\" valign=\"top\">New Lexington City SD</th>\n      <th>2011</th>\n      <td>110</td>\n      <td>110.0</td>\n    </tr>\n    <tr>\n      <th>2012</th>\n      <td>151</td>\n      <td>8.0</td>\n    </tr>\n    <tr>\n      <th>2013</th>\n      <td>153</td>\n      <td>2.0</td>\n    </tr>\n    <tr>\n      <th>2014</th>\n      <td>147</td>\n      <td>15.0</td>\n    </tr>\n    <tr>\n      <th>2015</th>\n      <td>124</td>\n      <td>18.0</td>\n    </tr>\n    <tr>\n      <th rowspan=\"5\" valign=\"top\">Northern Local SD</th>\n      <th>2011</th>\n      <td>162</td>\n      <td>161.0</td>\n    </tr>\n    <tr>\n      <th>2012</th>\n      <td>172</td>\n      <td>1.0</td>\n    </tr>\n    <tr>\n      <th>2013</th>\n      <td>150</td>\n      <td>2.0</td>\n    </tr>\n    <tr>\n      <th>2014</th>\n      <td>196</td>\n      <td>9.0</td>\n    </tr>\n    <tr>\n      <th>2015</th>\n      <td>194</td>\n      <td>168.0</td>\n    </tr>\n    <tr>\n      <th rowspan=\"5\" valign=\"top\">Zanesville</th>\n      <th>2011</th>\n      <td>263</td>\n      <td>263.0</td>\n    </tr>\n    <tr>\n      <th>2012</th>\n      <td>232</td>\n      <td>232.0</td>\n    </tr>\n    <tr>\n      <th>2013</th>\n      <td>232</td>\n      <td>232.0</td>\n    </tr>\n    <tr>\n      <th>2014</th>\n      <td>240</td>\n      <td>240.0</td>\n    </tr>\n    <tr>\n      <th>2015</th>\n      <td>191</td>\n      <td>191.0</td>\n    </tr>\n  </tbody>\n</table>\n</div>"
     },
     "metadata": {},
     "execution_count": 23
    }
   ],
   "source": [
    "missing_by_district = all_students.join(withdraw_na.groupby(['district','school_year']).agg({'student_lookup':'count'}), rsuffix='_na')\n",
    "\n",
    "missing_by_district[missing_by_district['student_lookup_na'].notnull()]"
   ]
  },
  {
   "cell_type": "code",
   "execution_count": null,
   "metadata": {},
   "outputs": [],
   "source": []
  },
  {
   "source": [
    "# Raw data for withdraw reason for students in 12th grade; also includes any student with a `graduate` withdraw reason since it is possible to graduate early\n",
    "\n",
    "## use DataFrame `grad_df`"
   ],
   "cell_type": "markdown",
   "metadata": {}
  },
  {
   "cell_type": "code",
   "execution_count": 4,
   "metadata": {},
   "outputs": [
    {
     "output_type": "execute_result",
     "data": {
      "text/plain": [
       "   student_lookup  grade  school_year         withdraw_reason\n",
       "0              46   12.0         2015       dropout - over 18\n",
       "1              46   12.0         2014        did not withdraw\n",
       "2              47   12.0         2015  transferred - in state\n",
       "3              49   12.0         2015                graduate\n",
       "4              50   12.0         2015                graduate"
      ],
      "text/html": "<div>\n<style scoped>\n    .dataframe tbody tr th:only-of-type {\n        vertical-align: middle;\n    }\n\n    .dataframe tbody tr th {\n        vertical-align: top;\n    }\n\n    .dataframe thead th {\n        text-align: right;\n    }\n</style>\n<table border=\"1\" class=\"dataframe\">\n  <thead>\n    <tr style=\"text-align: right;\">\n      <th></th>\n      <th>student_lookup</th>\n      <th>grade</th>\n      <th>school_year</th>\n      <th>withdraw_reason</th>\n    </tr>\n  </thead>\n  <tbody>\n    <tr>\n      <th>0</th>\n      <td>46</td>\n      <td>12.0</td>\n      <td>2015</td>\n      <td>dropout - over 18</td>\n    </tr>\n    <tr>\n      <th>1</th>\n      <td>46</td>\n      <td>12.0</td>\n      <td>2014</td>\n      <td>did not withdraw</td>\n    </tr>\n    <tr>\n      <th>2</th>\n      <td>47</td>\n      <td>12.0</td>\n      <td>2015</td>\n      <td>transferred - in state</td>\n    </tr>\n    <tr>\n      <th>3</th>\n      <td>49</td>\n      <td>12.0</td>\n      <td>2015</td>\n      <td>graduate</td>\n    </tr>\n    <tr>\n      <th>4</th>\n      <td>50</td>\n      <td>12.0</td>\n      <td>2015</td>\n      <td>graduate</td>\n    </tr>\n  </tbody>\n</table>\n</div>"
     },
     "metadata": {},
     "execution_count": 4
    }
   ],
   "source": [
    "qry = '''\n",
    "SELECT student_lookup,\n",
    "    grade,\n",
    "    school_year,\n",
    "    withdraw_reason\n",
    "from clean.all_snapshots\n",
    "where grade = 12 or withdraw_reason = 'graduate'\n",
    "order by student_lookup;\n",
    "'''\n",
    "\n",
    "cur.execute(qry)\n",
    "\n",
    "rows = cur.fetchall()\n",
    "\n",
    "# Build dataframe from rows\n",
    "grad_df = pd.DataFrame(rows, columns=[name[0] for name in cur.description])\n",
    "\n",
    "# Make sure student_id is an int\n",
    "grad_df['student_lookup'] = grad_df['student_lookup'].astype('int')\n",
    "\n",
    "grad_df.head()"
   ]
  },
  {
   "cell_type": "code",
   "execution_count": 5,
   "metadata": {},
   "outputs": [
    {
     "output_type": "execute_result",
     "data": {
      "text/plain": [
       "20096"
      ]
     },
     "metadata": {},
     "execution_count": 5
    }
   ],
   "source": [
    "len(grad_df)"
   ]
  },
  {
   "cell_type": "code",
   "execution_count": 6,
   "metadata": {},
   "outputs": [],
   "source": [
    "grad_df['withdraw_reason'].replace(to_replace=[None], value='Missing', inplace=True)"
   ]
  },
  {
   "cell_type": "code",
   "execution_count": 7,
   "metadata": {},
   "outputs": [],
   "source": [
    "cnt_withdraw = grad_df.groupby(['school_year','withdraw_reason']).agg({'student_lookup':'count'})"
   ]
  },
  {
   "cell_type": "code",
   "execution_count": 8,
   "metadata": {},
   "outputs": [
    {
     "output_type": "execute_result",
     "data": {
      "text/plain": [
       "                               student_lookup                                \\\n",
       "school_year                              2006  2007  2008  2009  2010  2011   \n",
       "withdraw_reason                                                               \n",
       "Missing                                  1693  1393     0     0     0   816   \n",
       "did not withdraw                            0     0    39    28    49    54   \n",
       "dropout - attendance                        0     0     2     0     1     3   \n",
       "dropout - did not finish tests              0     0     0     0     0     0   \n",
       "dropout - employment                        0     0     0     0     0     0   \n",
       "dropout - moved                             0     0     2     0     0     1   \n",
       "dropout - over 18                           0     0    26    15    16    21   \n",
       "error                                       0     0     0     0     0     0   \n",
       "expelled                                    0     0     1     0     1     1   \n",
       "graduate                                    0     0  1135  1086  1281  1255   \n",
       "transferred - court ordered                 0     0     1     0     0     2   \n",
       "transferred - homeschool                    0     0     0     1     1     1   \n",
       "transferred - in state                      0     0   165   184   164   222   \n",
       "transferred - out of country                0     0    12     9     6     5   \n",
       "transferred - out of state                  0     0    13     8    11    11   \n",
       "transferred - private                       0     0     2     0     4     1   \n",
       "withdrew - death                            0     0     0     0     0     0   \n",
       "withdrew - illness                          0     0     0     0     2     0   \n",
       "\n",
       "                                                        \n",
       "school_year                     2012  2013  2014  2015  \n",
       "withdraw_reason                                         \n",
       "Missing                          258   244   272   539  \n",
       "did not withdraw                  32    68   198   309  \n",
       "dropout - attendance               9     6    14     7  \n",
       "dropout - did not finish tests    11    15     5     5  \n",
       "dropout - employment               0     0     1     2  \n",
       "dropout - moved                    3     3     4     1  \n",
       "dropout - over 18                 43    20    42    44  \n",
       "error                              0     0     1    11  \n",
       "expelled                           6     0     0     0  \n",
       "graduate                        1984  1837  1911  1429  \n",
       "transferred - court ordered        1     1     1     0  \n",
       "transferred - homeschool           4     0     2     2  \n",
       "transferred - in state           265   253   185   211  \n",
       "transferred - out of country       7    11     1     2  \n",
       "transferred - out of state        16     9    16    19  \n",
       "transferred - private              1     3     1     3  \n",
       "withdrew - death                   1     1     0     2  \n",
       "withdrew - illness                 0     0     0     0  "
      ],
      "text/html": "<div>\n<style scoped>\n    .dataframe tbody tr th:only-of-type {\n        vertical-align: middle;\n    }\n\n    .dataframe tbody tr th {\n        vertical-align: top;\n    }\n\n    .dataframe thead tr th {\n        text-align: left;\n    }\n\n    .dataframe thead tr:last-of-type th {\n        text-align: right;\n    }\n</style>\n<table border=\"1\" class=\"dataframe\">\n  <thead>\n    <tr>\n      <th></th>\n      <th colspan=\"10\" halign=\"left\">student_lookup</th>\n    </tr>\n    <tr>\n      <th>school_year</th>\n      <th>2006</th>\n      <th>2007</th>\n      <th>2008</th>\n      <th>2009</th>\n      <th>2010</th>\n      <th>2011</th>\n      <th>2012</th>\n      <th>2013</th>\n      <th>2014</th>\n      <th>2015</th>\n    </tr>\n    <tr>\n      <th>withdraw_reason</th>\n      <th></th>\n      <th></th>\n      <th></th>\n      <th></th>\n      <th></th>\n      <th></th>\n      <th></th>\n      <th></th>\n      <th></th>\n      <th></th>\n    </tr>\n  </thead>\n  <tbody>\n    <tr>\n      <th>Missing</th>\n      <td>1693</td>\n      <td>1393</td>\n      <td>0</td>\n      <td>0</td>\n      <td>0</td>\n      <td>816</td>\n      <td>258</td>\n      <td>244</td>\n      <td>272</td>\n      <td>539</td>\n    </tr>\n    <tr>\n      <th>did not withdraw</th>\n      <td>0</td>\n      <td>0</td>\n      <td>39</td>\n      <td>28</td>\n      <td>49</td>\n      <td>54</td>\n      <td>32</td>\n      <td>68</td>\n      <td>198</td>\n      <td>309</td>\n    </tr>\n    <tr>\n      <th>dropout - attendance</th>\n      <td>0</td>\n      <td>0</td>\n      <td>2</td>\n      <td>0</td>\n      <td>1</td>\n      <td>3</td>\n      <td>9</td>\n      <td>6</td>\n      <td>14</td>\n      <td>7</td>\n    </tr>\n    <tr>\n      <th>dropout - did not finish tests</th>\n      <td>0</td>\n      <td>0</td>\n      <td>0</td>\n      <td>0</td>\n      <td>0</td>\n      <td>0</td>\n      <td>11</td>\n      <td>15</td>\n      <td>5</td>\n      <td>5</td>\n    </tr>\n    <tr>\n      <th>dropout - employment</th>\n      <td>0</td>\n      <td>0</td>\n      <td>0</td>\n      <td>0</td>\n      <td>0</td>\n      <td>0</td>\n      <td>0</td>\n      <td>0</td>\n      <td>1</td>\n      <td>2</td>\n    </tr>\n    <tr>\n      <th>dropout - moved</th>\n      <td>0</td>\n      <td>0</td>\n      <td>2</td>\n      <td>0</td>\n      <td>0</td>\n      <td>1</td>\n      <td>3</td>\n      <td>3</td>\n      <td>4</td>\n      <td>1</td>\n    </tr>\n    <tr>\n      <th>dropout - over 18</th>\n      <td>0</td>\n      <td>0</td>\n      <td>26</td>\n      <td>15</td>\n      <td>16</td>\n      <td>21</td>\n      <td>43</td>\n      <td>20</td>\n      <td>42</td>\n      <td>44</td>\n    </tr>\n    <tr>\n      <th>error</th>\n      <td>0</td>\n      <td>0</td>\n      <td>0</td>\n      <td>0</td>\n      <td>0</td>\n      <td>0</td>\n      <td>0</td>\n      <td>0</td>\n      <td>1</td>\n      <td>11</td>\n    </tr>\n    <tr>\n      <th>expelled</th>\n      <td>0</td>\n      <td>0</td>\n      <td>1</td>\n      <td>0</td>\n      <td>1</td>\n      <td>1</td>\n      <td>6</td>\n      <td>0</td>\n      <td>0</td>\n      <td>0</td>\n    </tr>\n    <tr>\n      <th>graduate</th>\n      <td>0</td>\n      <td>0</td>\n      <td>1135</td>\n      <td>1086</td>\n      <td>1281</td>\n      <td>1255</td>\n      <td>1984</td>\n      <td>1837</td>\n      <td>1911</td>\n      <td>1429</td>\n    </tr>\n    <tr>\n      <th>transferred - court ordered</th>\n      <td>0</td>\n      <td>0</td>\n      <td>1</td>\n      <td>0</td>\n      <td>0</td>\n      <td>2</td>\n      <td>1</td>\n      <td>1</td>\n      <td>1</td>\n      <td>0</td>\n    </tr>\n    <tr>\n      <th>transferred - homeschool</th>\n      <td>0</td>\n      <td>0</td>\n      <td>0</td>\n      <td>1</td>\n      <td>1</td>\n      <td>1</td>\n      <td>4</td>\n      <td>0</td>\n      <td>2</td>\n      <td>2</td>\n    </tr>\n    <tr>\n      <th>transferred - in state</th>\n      <td>0</td>\n      <td>0</td>\n      <td>165</td>\n      <td>184</td>\n      <td>164</td>\n      <td>222</td>\n      <td>265</td>\n      <td>253</td>\n      <td>185</td>\n      <td>211</td>\n    </tr>\n    <tr>\n      <th>transferred - out of country</th>\n      <td>0</td>\n      <td>0</td>\n      <td>12</td>\n      <td>9</td>\n      <td>6</td>\n      <td>5</td>\n      <td>7</td>\n      <td>11</td>\n      <td>1</td>\n      <td>2</td>\n    </tr>\n    <tr>\n      <th>transferred - out of state</th>\n      <td>0</td>\n      <td>0</td>\n      <td>13</td>\n      <td>8</td>\n      <td>11</td>\n      <td>11</td>\n      <td>16</td>\n      <td>9</td>\n      <td>16</td>\n      <td>19</td>\n    </tr>\n    <tr>\n      <th>transferred - private</th>\n      <td>0</td>\n      <td>0</td>\n      <td>2</td>\n      <td>0</td>\n      <td>4</td>\n      <td>1</td>\n      <td>1</td>\n      <td>3</td>\n      <td>1</td>\n      <td>3</td>\n    </tr>\n    <tr>\n      <th>withdrew - death</th>\n      <td>0</td>\n      <td>0</td>\n      <td>0</td>\n      <td>0</td>\n      <td>0</td>\n      <td>0</td>\n      <td>1</td>\n      <td>1</td>\n      <td>0</td>\n      <td>2</td>\n    </tr>\n    <tr>\n      <th>withdrew - illness</th>\n      <td>0</td>\n      <td>0</td>\n      <td>0</td>\n      <td>0</td>\n      <td>2</td>\n      <td>0</td>\n      <td>0</td>\n      <td>0</td>\n      <td>0</td>\n      <td>0</td>\n    </tr>\n  </tbody>\n</table>\n</div>"
     },
     "metadata": {},
     "execution_count": 8
    }
   ],
   "source": [
    "# Withdraw reasons for 12th graders by year\n",
    "cnt_withdraw.unstack(0).replace(np.nan, 0).astype('int')"
   ]
  },
  {
   "source": [
    "# All (student, school_year) entering grade 10"
   ],
   "cell_type": "markdown",
   "metadata": {}
  },
  {
   "cell_type": "code",
   "execution_count": 15,
   "metadata": {},
   "outputs": [
    {
     "output_type": "execute_result",
     "data": {
      "text/plain": [
       "   student_lookup  grade  school_year\n",
       "0              45     10         2014\n",
       "1              46     10         2012\n",
       "2              47     10         2013\n",
       "3              48     10         2012\n",
       "4              49     10         2013"
      ],
      "text/html": "<div>\n<style scoped>\n    .dataframe tbody tr th:only-of-type {\n        vertical-align: middle;\n    }\n\n    .dataframe tbody tr th {\n        vertical-align: top;\n    }\n\n    .dataframe thead th {\n        text-align: right;\n    }\n</style>\n<table border=\"1\" class=\"dataframe\">\n  <thead>\n    <tr style=\"text-align: right;\">\n      <th></th>\n      <th>student_lookup</th>\n      <th>grade</th>\n      <th>school_year</th>\n    </tr>\n  </thead>\n  <tbody>\n    <tr>\n      <th>0</th>\n      <td>45</td>\n      <td>10</td>\n      <td>2014</td>\n    </tr>\n    <tr>\n      <th>1</th>\n      <td>46</td>\n      <td>10</td>\n      <td>2012</td>\n    </tr>\n    <tr>\n      <th>2</th>\n      <td>47</td>\n      <td>10</td>\n      <td>2013</td>\n    </tr>\n    <tr>\n      <th>3</th>\n      <td>48</td>\n      <td>10</td>\n      <td>2012</td>\n    </tr>\n    <tr>\n      <th>4</th>\n      <td>49</td>\n      <td>10</td>\n      <td>2013</td>\n    </tr>\n  </tbody>\n</table>\n</div>"
     },
     "metadata": {},
     "execution_count": 15
    }
   ],
   "source": [
    "# Gets all students entering grade 10 at school year\n",
    "qry = '''\n",
    "SELECT distinct student_lookup,\n",
    "    grade,\n",
    "    school_year\n",
    "from clean.all_snapshots\n",
    "where grade = 10\n",
    "order by student_lookup;\n",
    "'''\n",
    "\n",
    "cur.execute(qry)\n",
    "\n",
    "rows = cur.fetchall()\n",
    "\n",
    "# Build dataframe from rows\n",
    "df = pd.DataFrame(rows, columns=[name[0] for name in cur.description])\n",
    "\n",
    "# Make sure student_id is an int\n",
    "df['student_lookup'] = df['student_lookup'].astype('int')\n",
    "\n",
    "df.head()"
   ]
  },
  {
   "source": [
    "# Links the future \"withdraw reason\" in grade 12 to the student entering 10th grade\n",
    "\n",
    "## Use DataFrame `grd_10`"
   ],
   "cell_type": "markdown",
   "metadata": {}
  },
  {
   "cell_type": "code",
   "execution_count": 16,
   "metadata": {},
   "outputs": [
    {
     "output_type": "execute_result",
     "data": {
      "text/plain": [
       "       student_lookup  grade_x  school_year_x  grade_y  school_year_y  \\\n",
       "0                  45       10           2014      NaN            NaN   \n",
       "1                  46       10           2012     12.0         2015.0   \n",
       "2                  46       10           2012     12.0         2014.0   \n",
       "3                  47       10           2013     12.0         2015.0   \n",
       "4                  48       10           2012      NaN            NaN   \n",
       "...               ...      ...            ...      ...            ...   \n",
       "20373          701167       10           2011      NaN            NaN   \n",
       "20374          701170       10           2011      NaN            NaN   \n",
       "20375          701177       10           2011      NaN            NaN   \n",
       "20376          701180       10           2011      NaN            NaN   \n",
       "20377          701182       10           2011      NaN            NaN   \n",
       "\n",
       "              withdraw_reason  \n",
       "0                         NaN  \n",
       "1           dropout - over 18  \n",
       "2            did not withdraw  \n",
       "3      transferred - in state  \n",
       "4                         NaN  \n",
       "...                       ...  \n",
       "20373                     NaN  \n",
       "20374                     NaN  \n",
       "20375                     NaN  \n",
       "20376                     NaN  \n",
       "20377                     NaN  \n",
       "\n",
       "[20378 rows x 6 columns]"
      ],
      "text/html": "<div>\n<style scoped>\n    .dataframe tbody tr th:only-of-type {\n        vertical-align: middle;\n    }\n\n    .dataframe tbody tr th {\n        vertical-align: top;\n    }\n\n    .dataframe thead th {\n        text-align: right;\n    }\n</style>\n<table border=\"1\" class=\"dataframe\">\n  <thead>\n    <tr style=\"text-align: right;\">\n      <th></th>\n      <th>student_lookup</th>\n      <th>grade_x</th>\n      <th>school_year_x</th>\n      <th>grade_y</th>\n      <th>school_year_y</th>\n      <th>withdraw_reason</th>\n    </tr>\n  </thead>\n  <tbody>\n    <tr>\n      <th>0</th>\n      <td>45</td>\n      <td>10</td>\n      <td>2014</td>\n      <td>NaN</td>\n      <td>NaN</td>\n      <td>NaN</td>\n    </tr>\n    <tr>\n      <th>1</th>\n      <td>46</td>\n      <td>10</td>\n      <td>2012</td>\n      <td>12.0</td>\n      <td>2015.0</td>\n      <td>dropout - over 18</td>\n    </tr>\n    <tr>\n      <th>2</th>\n      <td>46</td>\n      <td>10</td>\n      <td>2012</td>\n      <td>12.0</td>\n      <td>2014.0</td>\n      <td>did not withdraw</td>\n    </tr>\n    <tr>\n      <th>3</th>\n      <td>47</td>\n      <td>10</td>\n      <td>2013</td>\n      <td>12.0</td>\n      <td>2015.0</td>\n      <td>transferred - in state</td>\n    </tr>\n    <tr>\n      <th>4</th>\n      <td>48</td>\n      <td>10</td>\n      <td>2012</td>\n      <td>NaN</td>\n      <td>NaN</td>\n      <td>NaN</td>\n    </tr>\n    <tr>\n      <th>...</th>\n      <td>...</td>\n      <td>...</td>\n      <td>...</td>\n      <td>...</td>\n      <td>...</td>\n      <td>...</td>\n    </tr>\n    <tr>\n      <th>20373</th>\n      <td>701167</td>\n      <td>10</td>\n      <td>2011</td>\n      <td>NaN</td>\n      <td>NaN</td>\n      <td>NaN</td>\n    </tr>\n    <tr>\n      <th>20374</th>\n      <td>701170</td>\n      <td>10</td>\n      <td>2011</td>\n      <td>NaN</td>\n      <td>NaN</td>\n      <td>NaN</td>\n    </tr>\n    <tr>\n      <th>20375</th>\n      <td>701177</td>\n      <td>10</td>\n      <td>2011</td>\n      <td>NaN</td>\n      <td>NaN</td>\n      <td>NaN</td>\n    </tr>\n    <tr>\n      <th>20376</th>\n      <td>701180</td>\n      <td>10</td>\n      <td>2011</td>\n      <td>NaN</td>\n      <td>NaN</td>\n      <td>NaN</td>\n    </tr>\n    <tr>\n      <th>20377</th>\n      <td>701182</td>\n      <td>10</td>\n      <td>2011</td>\n      <td>NaN</td>\n      <td>NaN</td>\n      <td>NaN</td>\n    </tr>\n  </tbody>\n</table>\n<p>20378 rows × 6 columns</p>\n</div>"
     },
     "metadata": {},
     "execution_count": 16
    }
   ],
   "source": [
    "\n",
    "# Left join means it keeps all 10th grade students, even if they didn't appear in the grad_df\n",
    "grd_10 = pd.merge(df, grad_df, how='left', on='student_lookup')\n",
    "grd_10"
   ]
  },
  {
   "cell_type": "code",
   "execution_count": 18,
   "metadata": {},
   "outputs": [],
   "source": [
    "grd_10.columns = ['student_lookup',\t'grade_10',\t'yr_grade_10',\t'grade_12',\t'yr_grade_12',\t'grade_12_withdraw']"
   ]
  },
  {
   "cell_type": "code",
   "execution_count": 20,
   "metadata": {},
   "outputs": [
    {
     "output_type": "execute_result",
     "data": {
      "text/plain": [
       "       student_lookup  grade_10  yr_grade_10  grade_12  yr_grade_12  \\\n",
       "0                  45        10         2014       NaN          NaN   \n",
       "1                  46        10         2012      12.0       2015.0   \n",
       "2                  46        10         2012      12.0       2014.0   \n",
       "3                  47        10         2013      12.0       2015.0   \n",
       "4                  48        10         2012       NaN          NaN   \n",
       "...               ...       ...          ...       ...          ...   \n",
       "20373          701167        10         2011       NaN          NaN   \n",
       "20374          701170        10         2011       NaN          NaN   \n",
       "20375          701177        10         2011       NaN          NaN   \n",
       "20376          701180        10         2011       NaN          NaN   \n",
       "20377          701182        10         2011       NaN          NaN   \n",
       "\n",
       "            grade_12_withdraw  \n",
       "0                         NaN  \n",
       "1           dropout - over 18  \n",
       "2            did not withdraw  \n",
       "3      transferred - in state  \n",
       "4                         NaN  \n",
       "...                       ...  \n",
       "20373                     NaN  \n",
       "20374                     NaN  \n",
       "20375                     NaN  \n",
       "20376                     NaN  \n",
       "20377                     NaN  \n",
       "\n",
       "[20378 rows x 6 columns]"
      ],
      "text/html": "<div>\n<style scoped>\n    .dataframe tbody tr th:only-of-type {\n        vertical-align: middle;\n    }\n\n    .dataframe tbody tr th {\n        vertical-align: top;\n    }\n\n    .dataframe thead th {\n        text-align: right;\n    }\n</style>\n<table border=\"1\" class=\"dataframe\">\n  <thead>\n    <tr style=\"text-align: right;\">\n      <th></th>\n      <th>student_lookup</th>\n      <th>grade_10</th>\n      <th>yr_grade_10</th>\n      <th>grade_12</th>\n      <th>yr_grade_12</th>\n      <th>grade_12_withdraw</th>\n    </tr>\n  </thead>\n  <tbody>\n    <tr>\n      <th>0</th>\n      <td>45</td>\n      <td>10</td>\n      <td>2014</td>\n      <td>NaN</td>\n      <td>NaN</td>\n      <td>NaN</td>\n    </tr>\n    <tr>\n      <th>1</th>\n      <td>46</td>\n      <td>10</td>\n      <td>2012</td>\n      <td>12.0</td>\n      <td>2015.0</td>\n      <td>dropout - over 18</td>\n    </tr>\n    <tr>\n      <th>2</th>\n      <td>46</td>\n      <td>10</td>\n      <td>2012</td>\n      <td>12.0</td>\n      <td>2014.0</td>\n      <td>did not withdraw</td>\n    </tr>\n    <tr>\n      <th>3</th>\n      <td>47</td>\n      <td>10</td>\n      <td>2013</td>\n      <td>12.0</td>\n      <td>2015.0</td>\n      <td>transferred - in state</td>\n    </tr>\n    <tr>\n      <th>4</th>\n      <td>48</td>\n      <td>10</td>\n      <td>2012</td>\n      <td>NaN</td>\n      <td>NaN</td>\n      <td>NaN</td>\n    </tr>\n    <tr>\n      <th>...</th>\n      <td>...</td>\n      <td>...</td>\n      <td>...</td>\n      <td>...</td>\n      <td>...</td>\n      <td>...</td>\n    </tr>\n    <tr>\n      <th>20373</th>\n      <td>701167</td>\n      <td>10</td>\n      <td>2011</td>\n      <td>NaN</td>\n      <td>NaN</td>\n      <td>NaN</td>\n    </tr>\n    <tr>\n      <th>20374</th>\n      <td>701170</td>\n      <td>10</td>\n      <td>2011</td>\n      <td>NaN</td>\n      <td>NaN</td>\n      <td>NaN</td>\n    </tr>\n    <tr>\n      <th>20375</th>\n      <td>701177</td>\n      <td>10</td>\n      <td>2011</td>\n      <td>NaN</td>\n      <td>NaN</td>\n      <td>NaN</td>\n    </tr>\n    <tr>\n      <th>20376</th>\n      <td>701180</td>\n      <td>10</td>\n      <td>2011</td>\n      <td>NaN</td>\n      <td>NaN</td>\n      <td>NaN</td>\n    </tr>\n    <tr>\n      <th>20377</th>\n      <td>701182</td>\n      <td>10</td>\n      <td>2011</td>\n      <td>NaN</td>\n      <td>NaN</td>\n      <td>NaN</td>\n    </tr>\n  </tbody>\n</table>\n<p>20378 rows × 6 columns</p>\n</div>"
     },
     "metadata": {},
     "execution_count": 20
    }
   ],
   "source": [
    "grd_10"
   ]
  },
  {
   "cell_type": "code",
   "execution_count": 25,
   "metadata": {},
   "outputs": [
    {
     "output_type": "execute_result",
     "data": {
      "text/plain": [
       "                               student_lookup                               \\\n",
       "yr_grade_10                              2006  2007  2008 2009  2010  2011   \n",
       "grade_12_withdraw                                                            \n",
       "Missing                                     2     0     3   23    16   236   \n",
       "did not withdraw                           29    23    31   30    25    53   \n",
       "dropout - attendance                        2     0     1    1     1     6   \n",
       "dropout - did not finish tests              0     0     0    0     1     9   \n",
       "dropout - employment                        0     0     0    0     0     0   \n",
       "dropout - moved                             1     0     0    1     3     1   \n",
       "dropout - over 18                          11    13    19   17    13    18   \n",
       "error                                       0     0     0    0     0     0   \n",
       "expelled                                    1     0     1    0     2     0   \n",
       "graduate                                  974  1046  1029  979  1222  1619   \n",
       "transferred - court ordered                 1     0     0    0     0     1   \n",
       "transferred - homeschool                    0     1     1    1     2     0   \n",
       "transferred - in state                     97   131   111  129   154   200   \n",
       "transferred - out of country                0     0     0    0     0     1   \n",
       "transferred - out of state                 10     2     7    5     8     4   \n",
       "transferred - private                       1     0     3    1     1     3   \n",
       "withdrew - death                            0     0     0    0     1     1   \n",
       "withdrew - illness                          0     0     2    0     0     0   \n",
       "\n",
       "                                                 \n",
       "yr_grade_10                     2012  2013 2014  \n",
       "grade_12_withdraw                                \n",
       "Missing                          249   514    6  \n",
       "did not withdraw                  40   437    0  \n",
       "dropout - attendance              12     4    0  \n",
       "dropout - did not finish tests     4     4    0  \n",
       "dropout - employment               0     1    0  \n",
       "dropout - moved                    3     1    0  \n",
       "dropout - over 18                 45    17    0  \n",
       "error                              5     4    1  \n",
       "expelled                           0     0    0  \n",
       "graduate                        1802  1261   14  \n",
       "transferred - court ordered        0     0    0  \n",
       "transferred - homeschool           1     2    0  \n",
       "transferred - in state           148   164    1  \n",
       "transferred - out of country       0     0    0  \n",
       "transferred - out of state         9     8    0  \n",
       "transferred - private              2     1    1  \n",
       "withdrew - death                   0     2    0  \n",
       "withdrew - illness                 0     0    0  "
      ],
      "text/html": "<div>\n<style scoped>\n    .dataframe tbody tr th:only-of-type {\n        vertical-align: middle;\n    }\n\n    .dataframe tbody tr th {\n        vertical-align: top;\n    }\n\n    .dataframe thead tr th {\n        text-align: left;\n    }\n\n    .dataframe thead tr:last-of-type th {\n        text-align: right;\n    }\n</style>\n<table border=\"1\" class=\"dataframe\">\n  <thead>\n    <tr>\n      <th></th>\n      <th colspan=\"9\" halign=\"left\">student_lookup</th>\n    </tr>\n    <tr>\n      <th>yr_grade_10</th>\n      <th>2006</th>\n      <th>2007</th>\n      <th>2008</th>\n      <th>2009</th>\n      <th>2010</th>\n      <th>2011</th>\n      <th>2012</th>\n      <th>2013</th>\n      <th>2014</th>\n    </tr>\n    <tr>\n      <th>grade_12_withdraw</th>\n      <th></th>\n      <th></th>\n      <th></th>\n      <th></th>\n      <th></th>\n      <th></th>\n      <th></th>\n      <th></th>\n      <th></th>\n    </tr>\n  </thead>\n  <tbody>\n    <tr>\n      <th>Missing</th>\n      <td>2</td>\n      <td>0</td>\n      <td>3</td>\n      <td>23</td>\n      <td>16</td>\n      <td>236</td>\n      <td>249</td>\n      <td>514</td>\n      <td>6</td>\n    </tr>\n    <tr>\n      <th>did not withdraw</th>\n      <td>29</td>\n      <td>23</td>\n      <td>31</td>\n      <td>30</td>\n      <td>25</td>\n      <td>53</td>\n      <td>40</td>\n      <td>437</td>\n      <td>0</td>\n    </tr>\n    <tr>\n      <th>dropout - attendance</th>\n      <td>2</td>\n      <td>0</td>\n      <td>1</td>\n      <td>1</td>\n      <td>1</td>\n      <td>6</td>\n      <td>12</td>\n      <td>4</td>\n      <td>0</td>\n    </tr>\n    <tr>\n      <th>dropout - did not finish tests</th>\n      <td>0</td>\n      <td>0</td>\n      <td>0</td>\n      <td>0</td>\n      <td>1</td>\n      <td>9</td>\n      <td>4</td>\n      <td>4</td>\n      <td>0</td>\n    </tr>\n    <tr>\n      <th>dropout - employment</th>\n      <td>0</td>\n      <td>0</td>\n      <td>0</td>\n      <td>0</td>\n      <td>0</td>\n      <td>0</td>\n      <td>0</td>\n      <td>1</td>\n      <td>0</td>\n    </tr>\n    <tr>\n      <th>dropout - moved</th>\n      <td>1</td>\n      <td>0</td>\n      <td>0</td>\n      <td>1</td>\n      <td>3</td>\n      <td>1</td>\n      <td>3</td>\n      <td>1</td>\n      <td>0</td>\n    </tr>\n    <tr>\n      <th>dropout - over 18</th>\n      <td>11</td>\n      <td>13</td>\n      <td>19</td>\n      <td>17</td>\n      <td>13</td>\n      <td>18</td>\n      <td>45</td>\n      <td>17</td>\n      <td>0</td>\n    </tr>\n    <tr>\n      <th>error</th>\n      <td>0</td>\n      <td>0</td>\n      <td>0</td>\n      <td>0</td>\n      <td>0</td>\n      <td>0</td>\n      <td>5</td>\n      <td>4</td>\n      <td>1</td>\n    </tr>\n    <tr>\n      <th>expelled</th>\n      <td>1</td>\n      <td>0</td>\n      <td>1</td>\n      <td>0</td>\n      <td>2</td>\n      <td>0</td>\n      <td>0</td>\n      <td>0</td>\n      <td>0</td>\n    </tr>\n    <tr>\n      <th>graduate</th>\n      <td>974</td>\n      <td>1046</td>\n      <td>1029</td>\n      <td>979</td>\n      <td>1222</td>\n      <td>1619</td>\n      <td>1802</td>\n      <td>1261</td>\n      <td>14</td>\n    </tr>\n    <tr>\n      <th>transferred - court ordered</th>\n      <td>1</td>\n      <td>0</td>\n      <td>0</td>\n      <td>0</td>\n      <td>0</td>\n      <td>1</td>\n      <td>0</td>\n      <td>0</td>\n      <td>0</td>\n    </tr>\n    <tr>\n      <th>transferred - homeschool</th>\n      <td>0</td>\n      <td>1</td>\n      <td>1</td>\n      <td>1</td>\n      <td>2</td>\n      <td>0</td>\n      <td>1</td>\n      <td>2</td>\n      <td>0</td>\n    </tr>\n    <tr>\n      <th>transferred - in state</th>\n      <td>97</td>\n      <td>131</td>\n      <td>111</td>\n      <td>129</td>\n      <td>154</td>\n      <td>200</td>\n      <td>148</td>\n      <td>164</td>\n      <td>1</td>\n    </tr>\n    <tr>\n      <th>transferred - out of country</th>\n      <td>0</td>\n      <td>0</td>\n      <td>0</td>\n      <td>0</td>\n      <td>0</td>\n      <td>1</td>\n      <td>0</td>\n      <td>0</td>\n      <td>0</td>\n    </tr>\n    <tr>\n      <th>transferred - out of state</th>\n      <td>10</td>\n      <td>2</td>\n      <td>7</td>\n      <td>5</td>\n      <td>8</td>\n      <td>4</td>\n      <td>9</td>\n      <td>8</td>\n      <td>0</td>\n    </tr>\n    <tr>\n      <th>transferred - private</th>\n      <td>1</td>\n      <td>0</td>\n      <td>3</td>\n      <td>1</td>\n      <td>1</td>\n      <td>3</td>\n      <td>2</td>\n      <td>1</td>\n      <td>1</td>\n    </tr>\n    <tr>\n      <th>withdrew - death</th>\n      <td>0</td>\n      <td>0</td>\n      <td>0</td>\n      <td>0</td>\n      <td>1</td>\n      <td>1</td>\n      <td>0</td>\n      <td>2</td>\n      <td>0</td>\n    </tr>\n    <tr>\n      <th>withdrew - illness</th>\n      <td>0</td>\n      <td>0</td>\n      <td>2</td>\n      <td>0</td>\n      <td>0</td>\n      <td>0</td>\n      <td>0</td>\n      <td>0</td>\n      <td>0</td>\n    </tr>\n  </tbody>\n</table>\n</div>"
     },
     "metadata": {},
     "execution_count": 25
    }
   ],
   "source": [
    "grd_10.groupby(['yr_grade_10', 'grade_12_withdraw']).agg({'student_lookup':'count'}).unstack(0).replace(np.nan, 0).astype('int')"
   ]
  },
  {
   "source": [
    "# Data obtained by the View (sketch.hs_withdraw_info) WITHOUT further deduplication (grade 10)\n",
    "\n",
    "## Use DataFrame `hs_w`"
   ],
   "cell_type": "markdown",
   "metadata": {}
  },
  {
   "cell_type": "code",
   "execution_count": 37,
   "metadata": {},
   "outputs": [
    {
     "output_type": "execute_result",
     "data": {
      "text/plain": [
       "   student_lookup  grade  entry_year  grad_year  grad_year_missing  \\\n",
       "0              46     10        2012        NaN                  1   \n",
       "1              47     10        2013        NaN                  1   \n",
       "2              48     10        2012        NaN                  1   \n",
       "3              49     10        2013     2015.0                  0   \n",
       "4              50     10        2013     2015.0                  0   \n",
       "5             269     10        2013     2015.0                  0   \n",
       "6             286     10        2013     2015.0                  0   \n",
       "7             297     10        2012        NaN                  1   \n",
       "8             338     10        2013        NaN                  1   \n",
       "9             407     10        2013        NaN                  1   \n",
       "\n",
       "   dropout_year  dropout_year_missing  in_state_transfer_year  \\\n",
       "0        2015.0                     0                     NaN   \n",
       "1           NaN                     1                  2015.0   \n",
       "2           NaN                     1                     NaN   \n",
       "3           NaN                     1                     NaN   \n",
       "4           NaN                     1                     NaN   \n",
       "5           NaN                     1                     NaN   \n",
       "6           NaN                     1                     NaN   \n",
       "7        2015.0                     0                     NaN   \n",
       "8           NaN                     1                  2012.0   \n",
       "9           NaN                     1                     NaN   \n",
       "\n",
       "   in_state_transfer_year_missing  transfer_out_year  \\\n",
       "0                               1                NaN   \n",
       "1                               0                NaN   \n",
       "2                               1                NaN   \n",
       "3                               1                NaN   \n",
       "4                               1                NaN   \n",
       "5                               1                NaN   \n",
       "6                               1                NaN   \n",
       "7                               1                NaN   \n",
       "8                               0                NaN   \n",
       "9                               1                NaN   \n",
       "\n",
       "   transfer_out_year_missing  withdrew_year  withdrew_year_missing  \\\n",
       "0                          1            NaN                      1   \n",
       "1                          1            NaN                      1   \n",
       "2                          1            NaN                      1   \n",
       "3                          1            NaN                      1   \n",
       "4                          1            NaN                      1   \n",
       "5                          1            NaN                      1   \n",
       "6                          1            NaN                      1   \n",
       "7                          1            NaN                      1   \n",
       "8                          1            NaN                      1   \n",
       "9                          1            NaN                      1   \n",
       "\n",
       "   all_missing  \n",
       "0            0  \n",
       "1            0  \n",
       "2            1  \n",
       "3            0  \n",
       "4            0  \n",
       "5            0  \n",
       "6            0  \n",
       "7            0  \n",
       "8            0  \n",
       "9            1  "
      ],
      "text/html": "<div>\n<style scoped>\n    .dataframe tbody tr th:only-of-type {\n        vertical-align: middle;\n    }\n\n    .dataframe tbody tr th {\n        vertical-align: top;\n    }\n\n    .dataframe thead th {\n        text-align: right;\n    }\n</style>\n<table border=\"1\" class=\"dataframe\">\n  <thead>\n    <tr style=\"text-align: right;\">\n      <th></th>\n      <th>student_lookup</th>\n      <th>grade</th>\n      <th>entry_year</th>\n      <th>grad_year</th>\n      <th>grad_year_missing</th>\n      <th>dropout_year</th>\n      <th>dropout_year_missing</th>\n      <th>in_state_transfer_year</th>\n      <th>in_state_transfer_year_missing</th>\n      <th>transfer_out_year</th>\n      <th>transfer_out_year_missing</th>\n      <th>withdrew_year</th>\n      <th>withdrew_year_missing</th>\n      <th>all_missing</th>\n    </tr>\n  </thead>\n  <tbody>\n    <tr>\n      <th>0</th>\n      <td>46</td>\n      <td>10</td>\n      <td>2012</td>\n      <td>NaN</td>\n      <td>1</td>\n      <td>2015.0</td>\n      <td>0</td>\n      <td>NaN</td>\n      <td>1</td>\n      <td>NaN</td>\n      <td>1</td>\n      <td>NaN</td>\n      <td>1</td>\n      <td>0</td>\n    </tr>\n    <tr>\n      <th>1</th>\n      <td>47</td>\n      <td>10</td>\n      <td>2013</td>\n      <td>NaN</td>\n      <td>1</td>\n      <td>NaN</td>\n      <td>1</td>\n      <td>2015.0</td>\n      <td>0</td>\n      <td>NaN</td>\n      <td>1</td>\n      <td>NaN</td>\n      <td>1</td>\n      <td>0</td>\n    </tr>\n    <tr>\n      <th>2</th>\n      <td>48</td>\n      <td>10</td>\n      <td>2012</td>\n      <td>NaN</td>\n      <td>1</td>\n      <td>NaN</td>\n      <td>1</td>\n      <td>NaN</td>\n      <td>1</td>\n      <td>NaN</td>\n      <td>1</td>\n      <td>NaN</td>\n      <td>1</td>\n      <td>1</td>\n    </tr>\n    <tr>\n      <th>3</th>\n      <td>49</td>\n      <td>10</td>\n      <td>2013</td>\n      <td>2015.0</td>\n      <td>0</td>\n      <td>NaN</td>\n      <td>1</td>\n      <td>NaN</td>\n      <td>1</td>\n      <td>NaN</td>\n      <td>1</td>\n      <td>NaN</td>\n      <td>1</td>\n      <td>0</td>\n    </tr>\n    <tr>\n      <th>4</th>\n      <td>50</td>\n      <td>10</td>\n      <td>2013</td>\n      <td>2015.0</td>\n      <td>0</td>\n      <td>NaN</td>\n      <td>1</td>\n      <td>NaN</td>\n      <td>1</td>\n      <td>NaN</td>\n      <td>1</td>\n      <td>NaN</td>\n      <td>1</td>\n      <td>0</td>\n    </tr>\n    <tr>\n      <th>5</th>\n      <td>269</td>\n      <td>10</td>\n      <td>2013</td>\n      <td>2015.0</td>\n      <td>0</td>\n      <td>NaN</td>\n      <td>1</td>\n      <td>NaN</td>\n      <td>1</td>\n      <td>NaN</td>\n      <td>1</td>\n      <td>NaN</td>\n      <td>1</td>\n      <td>0</td>\n    </tr>\n    <tr>\n      <th>6</th>\n      <td>286</td>\n      <td>10</td>\n      <td>2013</td>\n      <td>2015.0</td>\n      <td>0</td>\n      <td>NaN</td>\n      <td>1</td>\n      <td>NaN</td>\n      <td>1</td>\n      <td>NaN</td>\n      <td>1</td>\n      <td>NaN</td>\n      <td>1</td>\n      <td>0</td>\n    </tr>\n    <tr>\n      <th>7</th>\n      <td>297</td>\n      <td>10</td>\n      <td>2012</td>\n      <td>NaN</td>\n      <td>1</td>\n      <td>2015.0</td>\n      <td>0</td>\n      <td>NaN</td>\n      <td>1</td>\n      <td>NaN</td>\n      <td>1</td>\n      <td>NaN</td>\n      <td>1</td>\n      <td>0</td>\n    </tr>\n    <tr>\n      <th>8</th>\n      <td>338</td>\n      <td>10</td>\n      <td>2013</td>\n      <td>NaN</td>\n      <td>1</td>\n      <td>NaN</td>\n      <td>1</td>\n      <td>2012.0</td>\n      <td>0</td>\n      <td>NaN</td>\n      <td>1</td>\n      <td>NaN</td>\n      <td>1</td>\n      <td>0</td>\n    </tr>\n    <tr>\n      <th>9</th>\n      <td>407</td>\n      <td>10</td>\n      <td>2013</td>\n      <td>NaN</td>\n      <td>1</td>\n      <td>NaN</td>\n      <td>1</td>\n      <td>NaN</td>\n      <td>1</td>\n      <td>NaN</td>\n      <td>1</td>\n      <td>NaN</td>\n      <td>1</td>\n      <td>1</td>\n    </tr>\n  </tbody>\n</table>\n</div>"
     },
     "metadata": {},
     "execution_count": 37
    }
   ],
   "source": [
    "qry = '''\n",
    "SELECT * from sketch.hs_withdraw_info\n",
    "WHERE grade=10 and entry_year BETWEEN 2007 AND 2013;\n",
    "'''\n",
    "\n",
    "cur.execute(qry)\n",
    "\n",
    "rows = cur.fetchall()\n",
    "\n",
    "# Build dataframe from rows\n",
    "hs_w = pd.DataFrame(rows, columns=[name[0] for name in cur.description])\n",
    "\n",
    "# Make sure student_id is an int\n",
    "hs_w ['student_lookup'] = hs_w['student_lookup'].astype('int')\n",
    "\n",
    "hs_w[:10]"
   ]
  },
  {
   "cell_type": "code",
   "execution_count": 41,
   "metadata": {},
   "outputs": [
    {
     "output_type": "execute_result",
     "data": {
      "text/plain": [
       "   student_lookup  grade_10  yr_grade_10  grade_12  yr_grade_12  \\\n",
       "3              47        10         2013      12.0       2015.0   \n",
       "\n",
       "        grade_12_withdraw  \n",
       "3  transferred - in state  "
      ],
      "text/html": "<div>\n<style scoped>\n    .dataframe tbody tr th:only-of-type {\n        vertical-align: middle;\n    }\n\n    .dataframe tbody tr th {\n        vertical-align: top;\n    }\n\n    .dataframe thead th {\n        text-align: right;\n    }\n</style>\n<table border=\"1\" class=\"dataframe\">\n  <thead>\n    <tr style=\"text-align: right;\">\n      <th></th>\n      <th>student_lookup</th>\n      <th>grade_10</th>\n      <th>yr_grade_10</th>\n      <th>grade_12</th>\n      <th>yr_grade_12</th>\n      <th>grade_12_withdraw</th>\n    </tr>\n  </thead>\n  <tbody>\n    <tr>\n      <th>3</th>\n      <td>47</td>\n      <td>10</td>\n      <td>2013</td>\n      <td>12.0</td>\n      <td>2015.0</td>\n      <td>transferred - in state</td>\n    </tr>\n  </tbody>\n</table>\n</div>"
     },
     "metadata": {},
     "execution_count": 41
    }
   ],
   "source": [
    "grd_10[grd_10['student_lookup']==47]"
   ]
  },
  {
   "cell_type": "code",
   "execution_count": 36,
   "metadata": {},
   "outputs": [
    {
     "output_type": "execute_result",
     "data": {
      "text/plain": [
       "13894"
      ]
     },
     "metadata": {},
     "execution_count": 36
    }
   ],
   "source": [
    "# grd_10 students entering 2007-2013 (our cohorts of interest)\n",
    "len(grd_10[grd_10['yr_grade_10'].isin(list(range(2007,2014)))])"
   ]
  },
  {
   "source": [
    "# Current data retrieval"
   ],
   "cell_type": "markdown",
   "metadata": {}
  },
  {
   "cell_type": "code",
   "execution_count": 26,
   "metadata": {},
   "outputs": [
    {
     "output_type": "execute_result",
     "data": {
      "text/plain": [
       "       student_lookup  grade  entry_year  grad_year  grad_year_missing  \\\n",
       "0                  46     10        2012        NaN                  1   \n",
       "1                  48     10        2012        NaN                  1   \n",
       "2                  49     10        2013     2015.0                  0   \n",
       "3                  50     10        2013     2015.0                  0   \n",
       "4                 269     10        2013     2015.0                  0   \n",
       "...               ...    ...         ...        ...                ...   \n",
       "10847          701138     10        2011        NaN                  1   \n",
       "10848          701170     10        2011        NaN                  1   \n",
       "10849          701177     10        2011        NaN                  1   \n",
       "10850          701180     10        2011        NaN                  1   \n",
       "10851          701182     10        2011        NaN                  1   \n",
       "\n",
       "       dropout_year  dropout_year_missing  in_state_transfer_year  \\\n",
       "0            2015.0                     0                     NaN   \n",
       "1               NaN                     1                     NaN   \n",
       "2               NaN                     1                     NaN   \n",
       "3               NaN                     1                     NaN   \n",
       "4               NaN                     1                     NaN   \n",
       "...             ...                   ...                     ...   \n",
       "10847           NaN                     1                     NaN   \n",
       "10848           NaN                     1                     NaN   \n",
       "10849           NaN                     1                     NaN   \n",
       "10850           NaN                     1                     NaN   \n",
       "10851           NaN                     1                     NaN   \n",
       "\n",
       "       in_state_transfer_year_missing  transfer_out_year  \\\n",
       "0                                   1                NaN   \n",
       "1                                   1                NaN   \n",
       "2                                   1                NaN   \n",
       "3                                   1                NaN   \n",
       "4                                   1                NaN   \n",
       "...                               ...                ...   \n",
       "10847                               1                NaN   \n",
       "10848                               1                NaN   \n",
       "10849                               1                NaN   \n",
       "10850                               1                NaN   \n",
       "10851                               1                NaN   \n",
       "\n",
       "       transfer_out_year_missing  withdrew_year  withdrew_year_missing  \\\n",
       "0                              1            NaN                      1   \n",
       "1                              1            NaN                      1   \n",
       "2                              1            NaN                      1   \n",
       "3                              1            NaN                      1   \n",
       "4                              1            NaN                      1   \n",
       "...                          ...            ...                    ...   \n",
       "10847                          1            NaN                      1   \n",
       "10848                          1            NaN                      1   \n",
       "10849                          1            NaN                      1   \n",
       "10850                          1            NaN                      1   \n",
       "10851                          1            NaN                      1   \n",
       "\n",
       "       all_missing  rnum  \n",
       "0                0     1  \n",
       "1                1     1  \n",
       "2                0     1  \n",
       "3                0     1  \n",
       "4                0     1  \n",
       "...            ...   ...  \n",
       "10847            1     1  \n",
       "10848            1     1  \n",
       "10849            1     1  \n",
       "10850            1     1  \n",
       "10851            1     1  \n",
       "\n",
       "[10852 rows x 15 columns]"
      ],
      "text/html": "<div>\n<style scoped>\n    .dataframe tbody tr th:only-of-type {\n        vertical-align: middle;\n    }\n\n    .dataframe tbody tr th {\n        vertical-align: top;\n    }\n\n    .dataframe thead th {\n        text-align: right;\n    }\n</style>\n<table border=\"1\" class=\"dataframe\">\n  <thead>\n    <tr style=\"text-align: right;\">\n      <th></th>\n      <th>student_lookup</th>\n      <th>grade</th>\n      <th>entry_year</th>\n      <th>grad_year</th>\n      <th>grad_year_missing</th>\n      <th>dropout_year</th>\n      <th>dropout_year_missing</th>\n      <th>in_state_transfer_year</th>\n      <th>in_state_transfer_year_missing</th>\n      <th>transfer_out_year</th>\n      <th>transfer_out_year_missing</th>\n      <th>withdrew_year</th>\n      <th>withdrew_year_missing</th>\n      <th>all_missing</th>\n      <th>rnum</th>\n    </tr>\n  </thead>\n  <tbody>\n    <tr>\n      <th>0</th>\n      <td>46</td>\n      <td>10</td>\n      <td>2012</td>\n      <td>NaN</td>\n      <td>1</td>\n      <td>2015.0</td>\n      <td>0</td>\n      <td>NaN</td>\n      <td>1</td>\n      <td>NaN</td>\n      <td>1</td>\n      <td>NaN</td>\n      <td>1</td>\n      <td>0</td>\n      <td>1</td>\n    </tr>\n    <tr>\n      <th>1</th>\n      <td>48</td>\n      <td>10</td>\n      <td>2012</td>\n      <td>NaN</td>\n      <td>1</td>\n      <td>NaN</td>\n      <td>1</td>\n      <td>NaN</td>\n      <td>1</td>\n      <td>NaN</td>\n      <td>1</td>\n      <td>NaN</td>\n      <td>1</td>\n      <td>1</td>\n      <td>1</td>\n    </tr>\n    <tr>\n      <th>2</th>\n      <td>49</td>\n      <td>10</td>\n      <td>2013</td>\n      <td>2015.0</td>\n      <td>0</td>\n      <td>NaN</td>\n      <td>1</td>\n      <td>NaN</td>\n      <td>1</td>\n      <td>NaN</td>\n      <td>1</td>\n      <td>NaN</td>\n      <td>1</td>\n      <td>0</td>\n      <td>1</td>\n    </tr>\n    <tr>\n      <th>3</th>\n      <td>50</td>\n      <td>10</td>\n      <td>2013</td>\n      <td>2015.0</td>\n      <td>0</td>\n      <td>NaN</td>\n      <td>1</td>\n      <td>NaN</td>\n      <td>1</td>\n      <td>NaN</td>\n      <td>1</td>\n      <td>NaN</td>\n      <td>1</td>\n      <td>0</td>\n      <td>1</td>\n    </tr>\n    <tr>\n      <th>4</th>\n      <td>269</td>\n      <td>10</td>\n      <td>2013</td>\n      <td>2015.0</td>\n      <td>0</td>\n      <td>NaN</td>\n      <td>1</td>\n      <td>NaN</td>\n      <td>1</td>\n      <td>NaN</td>\n      <td>1</td>\n      <td>NaN</td>\n      <td>1</td>\n      <td>0</td>\n      <td>1</td>\n    </tr>\n    <tr>\n      <th>...</th>\n      <td>...</td>\n      <td>...</td>\n      <td>...</td>\n      <td>...</td>\n      <td>...</td>\n      <td>...</td>\n      <td>...</td>\n      <td>...</td>\n      <td>...</td>\n      <td>...</td>\n      <td>...</td>\n      <td>...</td>\n      <td>...</td>\n      <td>...</td>\n      <td>...</td>\n    </tr>\n    <tr>\n      <th>10847</th>\n      <td>701138</td>\n      <td>10</td>\n      <td>2011</td>\n      <td>NaN</td>\n      <td>1</td>\n      <td>NaN</td>\n      <td>1</td>\n      <td>NaN</td>\n      <td>1</td>\n      <td>NaN</td>\n      <td>1</td>\n      <td>NaN</td>\n      <td>1</td>\n      <td>1</td>\n      <td>1</td>\n    </tr>\n    <tr>\n      <th>10848</th>\n      <td>701170</td>\n      <td>10</td>\n      <td>2011</td>\n      <td>NaN</td>\n      <td>1</td>\n      <td>NaN</td>\n      <td>1</td>\n      <td>NaN</td>\n      <td>1</td>\n      <td>NaN</td>\n      <td>1</td>\n      <td>NaN</td>\n      <td>1</td>\n      <td>1</td>\n      <td>1</td>\n    </tr>\n    <tr>\n      <th>10849</th>\n      <td>701177</td>\n      <td>10</td>\n      <td>2011</td>\n      <td>NaN</td>\n      <td>1</td>\n      <td>NaN</td>\n      <td>1</td>\n      <td>NaN</td>\n      <td>1</td>\n      <td>NaN</td>\n      <td>1</td>\n      <td>NaN</td>\n      <td>1</td>\n      <td>1</td>\n      <td>1</td>\n    </tr>\n    <tr>\n      <th>10850</th>\n      <td>701180</td>\n      <td>10</td>\n      <td>2011</td>\n      <td>NaN</td>\n      <td>1</td>\n      <td>NaN</td>\n      <td>1</td>\n      <td>NaN</td>\n      <td>1</td>\n      <td>NaN</td>\n      <td>1</td>\n      <td>NaN</td>\n      <td>1</td>\n      <td>1</td>\n      <td>1</td>\n    </tr>\n    <tr>\n      <th>10851</th>\n      <td>701182</td>\n      <td>10</td>\n      <td>2011</td>\n      <td>NaN</td>\n      <td>1</td>\n      <td>NaN</td>\n      <td>1</td>\n      <td>NaN</td>\n      <td>1</td>\n      <td>NaN</td>\n      <td>1</td>\n      <td>NaN</td>\n      <td>1</td>\n      <td>1</td>\n      <td>1</td>\n    </tr>\n  </tbody>\n</table>\n<p>10852 rows × 15 columns</p>\n</div>"
     },
     "metadata": {},
     "execution_count": 26
    }
   ],
   "source": [
    "cur.execute('''\n",
    "                select *\n",
    "                from (\n",
    "\t\t               SELECT *, ROW_NUMBER() OVER\n",
    "\t\t                    (PARTITION BY student_lookup, grade\n",
    "                            ORDER BY student_lookup) AS rnum\n",
    "\t\t               FROM sketch.hs_withdraw_info hwi) t\n",
    "                where t.rnum = 1\n",
    "                and t.grade = 10\n",
    "                and t.entry_year >= 2007 and t.entry_year <= 2013\n",
    "                and ((t.grad_year is not null or t.dropout_year is not null)\n",
    "                \t\tor (t.transfer_out_year is null))\n",
    "                and ((t.grad_year is not null or t.dropout_year is not null)\n",
    "               \t\t\tor (t.in_state_transfer_year is null));\n",
    "                ''')\n",
    "\n",
    "rows = cur.fetchall()\n",
    "\n",
    "# Build dataframe from rows\n",
    "existing = pd.DataFrame(rows, columns=[name[0] for name in cur.description])\n",
    "\n",
    "# Make sure student_id is an int\n",
    "existing['student_lookup'] = existing['student_lookup'].astype('int')\n",
    "\n",
    "existing"
   ]
  },
  {
   "cell_type": "code",
   "execution_count": 32,
   "metadata": {},
   "outputs": [
    {
     "output_type": "execute_result",
     "data": {
      "text/plain": [
       "13894"
      ]
     },
     "metadata": {},
     "execution_count": 32
    }
   ],
   "source": []
  },
  {
   "cell_type": "code",
   "execution_count": 28,
   "metadata": {},
   "outputs": [
    {
     "output_type": "execute_result",
     "data": {
      "text/plain": [
       "[2007, 2008, 2009, 2010, 2011, 2012, 2013]"
      ]
     },
     "metadata": {},
     "execution_count": 28
    }
   ],
   "source": [
    "list(range(2007,2014))"
   ]
  }
 ]
}