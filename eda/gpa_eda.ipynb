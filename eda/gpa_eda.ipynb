{
 "metadata": {
  "language_info": {
   "codemirror_mode": {
    "name": "ipython",
    "version": 3
   },
   "file_extension": ".py",
   "mimetype": "text/x-python",
   "name": "python",
   "nbconvert_exporter": "python",
   "pygments_lexer": "ipython3",
   "version": "3.7.5-final"
  },
  "orig_nbformat": 2,
  "kernelspec": {
   "name": "schools2",
   "display_name": "schools2"
  }
 },
 "nbformat": 4,
 "nbformat_minor": 2,
 "cells": [
  {
   "cell_type": "code",
   "execution_count": 1,
   "metadata": {},
   "outputs": [],
   "source": [
    "import sys\n",
    "import psycopg2 as pg2  # Preferred cursor connection\n",
    "from sqlalchemy import create_engine  # preferred for pushing back to DB\n",
    "import yaml\n",
    "import pandas as pd\n",
    "import numpy as np\n",
    "\n",
    "# Might need your own path...\n",
    "with open('/data/users/dschnelb/secrets.yaml', 'r') as f:\n",
    "        # loads contents of secrets.yaml into a python dictionary\n",
    "        secret_config = yaml.safe_load(f.read())\n",
    "\n",
    "# Set database connection to `conn`\n",
    "db_params = secret_config['db']\n",
    "conn = pg2.connect(host=db_params['host'],\n",
    "                    port=db_params['port'],\n",
    "                    dbname=db_params['dbname'],\n",
    "                    user=db_params['user'],\n",
    "                    password=db_params['password'])\n",
    "\n",
    "# Connect cursor with psycopg2 database connection\n",
    "cur = conn.cursor()"
   ]
  },
  {
   "cell_type": "code",
   "execution_count": 2,
   "metadata": {},
   "outputs": [
    {
     "output_type": "execute_result",
     "data": {
      "text/plain": [
       "       student_lookup                      school gpa_9  gpa_9_missing  \\\n",
       "0               57112  COSHOCTON CITY HIGH SCHOOL   NaN              1   \n",
       "1               57156  COSHOCTON CITY HIGH SCHOOL   NaN              1   \n",
       "2               57153  COSHOCTON CITY HIGH SCHOOL   NaN              1   \n",
       "3               57151  COSHOCTON CITY HIGH SCHOOL   NaN              1   \n",
       "4               57148  COSHOCTON CITY HIGH SCHOOL   NaN              1   \n",
       "...               ...                         ...   ...            ...   \n",
       "19306           22495      Zanesville High School   NaN              1   \n",
       "19307           22494      Zanesville High School   NaN              1   \n",
       "19308           22493      Zanesville High School   NaN              1   \n",
       "19309           22445      Zanesville High School   NaN              1   \n",
       "19310           22492      Zanesville High School   NaN              1   \n",
       "\n",
       "       school_gpa_9_rank  school_gpa_9_decile  \n",
       "0                     83                  NaN  \n",
       "1                     83                  NaN  \n",
       "2                     83                  NaN  \n",
       "3                     83                  NaN  \n",
       "4                     83                  NaN  \n",
       "...                  ...                  ...  \n",
       "19306                  1                  NaN  \n",
       "19307                  1                  NaN  \n",
       "19308                  1                  NaN  \n",
       "19309                  1                  NaN  \n",
       "19310                  1                  NaN  \n",
       "\n",
       "[19311 rows x 6 columns]"
      ],
      "text/html": "<div>\n<style scoped>\n    .dataframe tbody tr th:only-of-type {\n        vertical-align: middle;\n    }\n\n    .dataframe tbody tr th {\n        vertical-align: top;\n    }\n\n    .dataframe thead th {\n        text-align: right;\n    }\n</style>\n<table border=\"1\" class=\"dataframe\">\n  <thead>\n    <tr style=\"text-align: right;\">\n      <th></th>\n      <th>student_lookup</th>\n      <th>school</th>\n      <th>gpa_9</th>\n      <th>gpa_9_missing</th>\n      <th>school_gpa_9_rank</th>\n      <th>school_gpa_9_decile</th>\n    </tr>\n  </thead>\n  <tbody>\n    <tr>\n      <th>0</th>\n      <td>57112</td>\n      <td>COSHOCTON CITY HIGH SCHOOL</td>\n      <td>NaN</td>\n      <td>1</td>\n      <td>83</td>\n      <td>NaN</td>\n    </tr>\n    <tr>\n      <th>1</th>\n      <td>57156</td>\n      <td>COSHOCTON CITY HIGH SCHOOL</td>\n      <td>NaN</td>\n      <td>1</td>\n      <td>83</td>\n      <td>NaN</td>\n    </tr>\n    <tr>\n      <th>2</th>\n      <td>57153</td>\n      <td>COSHOCTON CITY HIGH SCHOOL</td>\n      <td>NaN</td>\n      <td>1</td>\n      <td>83</td>\n      <td>NaN</td>\n    </tr>\n    <tr>\n      <th>3</th>\n      <td>57151</td>\n      <td>COSHOCTON CITY HIGH SCHOOL</td>\n      <td>NaN</td>\n      <td>1</td>\n      <td>83</td>\n      <td>NaN</td>\n    </tr>\n    <tr>\n      <th>4</th>\n      <td>57148</td>\n      <td>COSHOCTON CITY HIGH SCHOOL</td>\n      <td>NaN</td>\n      <td>1</td>\n      <td>83</td>\n      <td>NaN</td>\n    </tr>\n    <tr>\n      <th>...</th>\n      <td>...</td>\n      <td>...</td>\n      <td>...</td>\n      <td>...</td>\n      <td>...</td>\n      <td>...</td>\n    </tr>\n    <tr>\n      <th>19306</th>\n      <td>22495</td>\n      <td>Zanesville High School</td>\n      <td>NaN</td>\n      <td>1</td>\n      <td>1</td>\n      <td>NaN</td>\n    </tr>\n    <tr>\n      <th>19307</th>\n      <td>22494</td>\n      <td>Zanesville High School</td>\n      <td>NaN</td>\n      <td>1</td>\n      <td>1</td>\n      <td>NaN</td>\n    </tr>\n    <tr>\n      <th>19308</th>\n      <td>22493</td>\n      <td>Zanesville High School</td>\n      <td>NaN</td>\n      <td>1</td>\n      <td>1</td>\n      <td>NaN</td>\n    </tr>\n    <tr>\n      <th>19309</th>\n      <td>22445</td>\n      <td>Zanesville High School</td>\n      <td>NaN</td>\n      <td>1</td>\n      <td>1</td>\n      <td>NaN</td>\n    </tr>\n    <tr>\n      <th>19310</th>\n      <td>22492</td>\n      <td>Zanesville High School</td>\n      <td>NaN</td>\n      <td>1</td>\n      <td>1</td>\n      <td>NaN</td>\n    </tr>\n  </tbody>\n</table>\n<p>19311 rows × 6 columns</p>\n</div>"
     },
     "metadata": {},
     "execution_count": 2
    }
   ],
   "source": [
    "qry = ''' select student_lookup, school, gpa_9, gpa_9_missing, school_gpa_9_rank, school_gpa_9_decile\n",
    "from sketch.grade_9_gpa; '''\n",
    "\n",
    "cur.execute(qry)\n",
    "\n",
    "rows = cur.fetchall()\n",
    "\n",
    "gpa = pd.DataFrame([[int(row[0])] + list(row)[1:] for row in rows],\n",
    "                    columns=[name[0] for name in cur.description])\n",
    "\n",
    "# Make sure student_id is an int\n",
    "gpa['student_lookup'] = gpa['student_lookup'].astype('int')\n",
    "gpa.replace([None], np.nan, inplace=True)\n",
    "gpa"
   ]
  },
  {
   "cell_type": "code",
   "execution_count": 7,
   "metadata": {},
   "outputs": [],
   "source": [
    "qry = ''' select distinct student_lookup, school_year, COALESCE(school_name,school_code) as school\n",
    "from clean.all_snapshots\n",
    "where grade=10\n",
    "and school_year BETWEEN 2007 AND 2013; '''\n",
    "\n",
    "cur.execute(qry)\n",
    "\n",
    "rows = cur.fetchall()\n",
    "\n",
    "df = pd.DataFrame([[int(row[0])] + list(row)[1:] for row in rows],\n",
    "                    columns=[name[0] for name in cur.description])\n",
    "\n",
    "# Make sure student_id is an int\n",
    "df['student_lookup'] = df['student_lookup'].astype('int')"
   ]
  },
  {
   "cell_type": "code",
   "execution_count": 8,
   "metadata": {},
   "outputs": [
    {
     "output_type": "execute_result",
     "data": {
      "text/plain": [
       "       student_lookup  school_year                      school\n",
       "0               35993         2011           Philo High School\n",
       "1               39939         2010                        RVHS\n",
       "2               52418         2011      River View High School\n",
       "3                9028         2013       Ridgewood High School\n",
       "4                 829         2013       Coshocton High School\n",
       "...               ...          ...                         ...\n",
       "13288           41836         2012   New Lexington High School\n",
       "13289           13710         2013           Philo High School\n",
       "13290            4992         2012           Philo High School\n",
       "13291           16793         2013  West Muskingum High School\n",
       "13292           69529         2012     Crooksville High School\n",
       "\n",
       "[13293 rows x 3 columns]"
      ],
      "text/html": "<div>\n<style scoped>\n    .dataframe tbody tr th:only-of-type {\n        vertical-align: middle;\n    }\n\n    .dataframe tbody tr th {\n        vertical-align: top;\n    }\n\n    .dataframe thead th {\n        text-align: right;\n    }\n</style>\n<table border=\"1\" class=\"dataframe\">\n  <thead>\n    <tr style=\"text-align: right;\">\n      <th></th>\n      <th>student_lookup</th>\n      <th>school_year</th>\n      <th>school</th>\n    </tr>\n  </thead>\n  <tbody>\n    <tr>\n      <th>0</th>\n      <td>35993</td>\n      <td>2011</td>\n      <td>Philo High School</td>\n    </tr>\n    <tr>\n      <th>1</th>\n      <td>39939</td>\n      <td>2010</td>\n      <td>RVHS</td>\n    </tr>\n    <tr>\n      <th>2</th>\n      <td>52418</td>\n      <td>2011</td>\n      <td>River View High School</td>\n    </tr>\n    <tr>\n      <th>3</th>\n      <td>9028</td>\n      <td>2013</td>\n      <td>Ridgewood High School</td>\n    </tr>\n    <tr>\n      <th>4</th>\n      <td>829</td>\n      <td>2013</td>\n      <td>Coshocton High School</td>\n    </tr>\n    <tr>\n      <th>...</th>\n      <td>...</td>\n      <td>...</td>\n      <td>...</td>\n    </tr>\n    <tr>\n      <th>13288</th>\n      <td>41836</td>\n      <td>2012</td>\n      <td>New Lexington High School</td>\n    </tr>\n    <tr>\n      <th>13289</th>\n      <td>13710</td>\n      <td>2013</td>\n      <td>Philo High School</td>\n    </tr>\n    <tr>\n      <th>13290</th>\n      <td>4992</td>\n      <td>2012</td>\n      <td>Philo High School</td>\n    </tr>\n    <tr>\n      <th>13291</th>\n      <td>16793</td>\n      <td>2013</td>\n      <td>West Muskingum High School</td>\n    </tr>\n    <tr>\n      <th>13292</th>\n      <td>69529</td>\n      <td>2012</td>\n      <td>Crooksville High School</td>\n    </tr>\n  </tbody>\n</table>\n<p>13293 rows × 3 columns</p>\n</div>"
     },
     "metadata": {},
     "execution_count": 8
    }
   ],
   "source": [
    "df"
   ]
  },
  {
   "cell_type": "code",
   "execution_count": 9,
   "metadata": {},
   "outputs": [
    {
     "output_type": "execute_result",
     "data": {
      "text/plain": [
       "   student_lookup  school_year                school_x               school_y  \\\n",
       "0           35993         2011       Philo High School                   FPHS   \n",
       "1           39939         2010                    RVHS                    NaN   \n",
       "2           52418         2011  River View High School                   RVHS   \n",
       "3            9028         2013   Ridgewood High School  Ridgewood High School   \n",
       "4             829         2013   Coshocton High School  Coshocton High School   \n",
       "\n",
       "                gpa_9  gpa_9_missing  school_gpa_9_rank  school_gpa_9_decile  \n",
       "0                 NaN            1.0              153.0                  NaN  \n",
       "1                 NaN            NaN                NaN                  NaN  \n",
       "2  1.2222222222222222            0.0              126.0                 10.0  \n",
       "3                 NaN            1.0               89.0                  NaN  \n",
       "4  3.1562500000000000            0.0               36.0                  3.0  "
      ],
      "text/html": "<div>\n<style scoped>\n    .dataframe tbody tr th:only-of-type {\n        vertical-align: middle;\n    }\n\n    .dataframe tbody tr th {\n        vertical-align: top;\n    }\n\n    .dataframe thead th {\n        text-align: right;\n    }\n</style>\n<table border=\"1\" class=\"dataframe\">\n  <thead>\n    <tr style=\"text-align: right;\">\n      <th></th>\n      <th>student_lookup</th>\n      <th>school_year</th>\n      <th>school_x</th>\n      <th>school_y</th>\n      <th>gpa_9</th>\n      <th>gpa_9_missing</th>\n      <th>school_gpa_9_rank</th>\n      <th>school_gpa_9_decile</th>\n    </tr>\n  </thead>\n  <tbody>\n    <tr>\n      <th>0</th>\n      <td>35993</td>\n      <td>2011</td>\n      <td>Philo High School</td>\n      <td>FPHS</td>\n      <td>NaN</td>\n      <td>1.0</td>\n      <td>153.0</td>\n      <td>NaN</td>\n    </tr>\n    <tr>\n      <th>1</th>\n      <td>39939</td>\n      <td>2010</td>\n      <td>RVHS</td>\n      <td>NaN</td>\n      <td>NaN</td>\n      <td>NaN</td>\n      <td>NaN</td>\n      <td>NaN</td>\n    </tr>\n    <tr>\n      <th>2</th>\n      <td>52418</td>\n      <td>2011</td>\n      <td>River View High School</td>\n      <td>RVHS</td>\n      <td>1.2222222222222222</td>\n      <td>0.0</td>\n      <td>126.0</td>\n      <td>10.0</td>\n    </tr>\n    <tr>\n      <th>3</th>\n      <td>9028</td>\n      <td>2013</td>\n      <td>Ridgewood High School</td>\n      <td>Ridgewood High School</td>\n      <td>NaN</td>\n      <td>1.0</td>\n      <td>89.0</td>\n      <td>NaN</td>\n    </tr>\n    <tr>\n      <th>4</th>\n      <td>829</td>\n      <td>2013</td>\n      <td>Coshocton High School</td>\n      <td>Coshocton High School</td>\n      <td>3.1562500000000000</td>\n      <td>0.0</td>\n      <td>36.0</td>\n      <td>3.0</td>\n    </tr>\n  </tbody>\n</table>\n</div>"
     },
     "metadata": {},
     "execution_count": 9
    }
   ],
   "source": [
    "data = pd.merge(df, gpa, how = 'left',on='student_lookup')\n",
    "data.head()"
   ]
  },
  {
   "cell_type": "code",
   "execution_count": 10,
   "metadata": {},
   "outputs": [
    {
     "output_type": "execute_result",
     "data": {
      "text/plain": [
       "   student_lookup  school_year               school_10               school_9  \\\n",
       "0           35993         2011       Philo High School                   FPHS   \n",
       "1           39939         2010                    RVHS                    NaN   \n",
       "2           52418         2011  River View High School                   RVHS   \n",
       "3            9028         2013   Ridgewood High School  Ridgewood High School   \n",
       "4             829         2013   Coshocton High School  Coshocton High School   \n",
       "\n",
       "                gpa_9  gpa_9_missing  school_gpa_9_rank  school_gpa_9_decile  \n",
       "0                 NaN            1.0              153.0                  NaN  \n",
       "1                 NaN            NaN                NaN                  NaN  \n",
       "2  1.2222222222222222            0.0              126.0                 10.0  \n",
       "3                 NaN            1.0               89.0                  NaN  \n",
       "4  3.1562500000000000            0.0               36.0                  3.0  "
      ],
      "text/html": "<div>\n<style scoped>\n    .dataframe tbody tr th:only-of-type {\n        vertical-align: middle;\n    }\n\n    .dataframe tbody tr th {\n        vertical-align: top;\n    }\n\n    .dataframe thead th {\n        text-align: right;\n    }\n</style>\n<table border=\"1\" class=\"dataframe\">\n  <thead>\n    <tr style=\"text-align: right;\">\n      <th></th>\n      <th>student_lookup</th>\n      <th>school_year</th>\n      <th>school_10</th>\n      <th>school_9</th>\n      <th>gpa_9</th>\n      <th>gpa_9_missing</th>\n      <th>school_gpa_9_rank</th>\n      <th>school_gpa_9_decile</th>\n    </tr>\n  </thead>\n  <tbody>\n    <tr>\n      <th>0</th>\n      <td>35993</td>\n      <td>2011</td>\n      <td>Philo High School</td>\n      <td>FPHS</td>\n      <td>NaN</td>\n      <td>1.0</td>\n      <td>153.0</td>\n      <td>NaN</td>\n    </tr>\n    <tr>\n      <th>1</th>\n      <td>39939</td>\n      <td>2010</td>\n      <td>RVHS</td>\n      <td>NaN</td>\n      <td>NaN</td>\n      <td>NaN</td>\n      <td>NaN</td>\n      <td>NaN</td>\n    </tr>\n    <tr>\n      <th>2</th>\n      <td>52418</td>\n      <td>2011</td>\n      <td>River View High School</td>\n      <td>RVHS</td>\n      <td>1.2222222222222222</td>\n      <td>0.0</td>\n      <td>126.0</td>\n      <td>10.0</td>\n    </tr>\n    <tr>\n      <th>3</th>\n      <td>9028</td>\n      <td>2013</td>\n      <td>Ridgewood High School</td>\n      <td>Ridgewood High School</td>\n      <td>NaN</td>\n      <td>1.0</td>\n      <td>89.0</td>\n      <td>NaN</td>\n    </tr>\n    <tr>\n      <th>4</th>\n      <td>829</td>\n      <td>2013</td>\n      <td>Coshocton High School</td>\n      <td>Coshocton High School</td>\n      <td>3.1562500000000000</td>\n      <td>0.0</td>\n      <td>36.0</td>\n      <td>3.0</td>\n    </tr>\n  </tbody>\n</table>\n</div>"
     },
     "metadata": {},
     "execution_count": 10
    }
   ],
   "source": [
    "data.rename(columns={'school_x':'school_10','school_y':'school_9'},inplace=True)\n",
    "data.head()"
   ]
  },
  {
   "cell_type": "code",
   "execution_count": 11,
   "metadata": {},
   "outputs": [
    {
     "output_type": "execute_result",
     "data": {
      "text/plain": [
       "0.3303994583615437"
      ]
     },
     "metadata": {},
     "execution_count": 11
    }
   ],
   "source": [
    "1 - sum(data['gpa_9'].notnull())/len(data)"
   ]
  },
  {
   "source": [
    "## 33% of ALL students entering grade 10 in years 2007-2013 are missing ninth grade gpa data. Note, this does not drop the transfers, etc., as our load_data function does. "
   ],
   "cell_type": "markdown",
   "metadata": {}
  },
  {
   "cell_type": "code",
   "execution_count": 12,
   "metadata": {},
   "outputs": [],
   "source": [
    "data['gpa_9']=data['gpa_9'].astype('float')"
   ]
  },
  {
   "cell_type": "code",
   "execution_count": 13,
   "metadata": {},
   "outputs": [],
   "source": [
    "missing_by_yr = data.groupby('school_year').agg({'student_lookup':'count','gpa_9':'median','gpa_9_missing':'sum'})"
   ]
  },
  {
   "cell_type": "code",
   "execution_count": 14,
   "metadata": {},
   "outputs": [
    {
     "output_type": "execute_result",
     "data": {
      "text/plain": [
       "             student_lookup     gpa_9  gpa_9_missing  missing%\n",
       "school_year                                                   \n",
       "2007                   1360  2.817391          144.0  0.105882\n",
       "2008                   1328  2.728095          117.0  0.088102\n",
       "2009                   1279  2.739130          136.0  0.106333\n",
       "2010                   1543  2.720000          150.0  0.097213\n",
       "2011                   2420  2.798437          194.0  0.080165\n",
       "2012                   2658  2.750806         1099.0  0.413469\n",
       "2013                   2705  2.916667          460.0  0.170055"
      ],
      "text/html": "<div>\n<style scoped>\n    .dataframe tbody tr th:only-of-type {\n        vertical-align: middle;\n    }\n\n    .dataframe tbody tr th {\n        vertical-align: top;\n    }\n\n    .dataframe thead th {\n        text-align: right;\n    }\n</style>\n<table border=\"1\" class=\"dataframe\">\n  <thead>\n    <tr style=\"text-align: right;\">\n      <th></th>\n      <th>student_lookup</th>\n      <th>gpa_9</th>\n      <th>gpa_9_missing</th>\n      <th>missing%</th>\n    </tr>\n    <tr>\n      <th>school_year</th>\n      <th></th>\n      <th></th>\n      <th></th>\n      <th></th>\n    </tr>\n  </thead>\n  <tbody>\n    <tr>\n      <th>2007</th>\n      <td>1360</td>\n      <td>2.817391</td>\n      <td>144.0</td>\n      <td>0.105882</td>\n    </tr>\n    <tr>\n      <th>2008</th>\n      <td>1328</td>\n      <td>2.728095</td>\n      <td>117.0</td>\n      <td>0.088102</td>\n    </tr>\n    <tr>\n      <th>2009</th>\n      <td>1279</td>\n      <td>2.739130</td>\n      <td>136.0</td>\n      <td>0.106333</td>\n    </tr>\n    <tr>\n      <th>2010</th>\n      <td>1543</td>\n      <td>2.720000</td>\n      <td>150.0</td>\n      <td>0.097213</td>\n    </tr>\n    <tr>\n      <th>2011</th>\n      <td>2420</td>\n      <td>2.798437</td>\n      <td>194.0</td>\n      <td>0.080165</td>\n    </tr>\n    <tr>\n      <th>2012</th>\n      <td>2658</td>\n      <td>2.750806</td>\n      <td>1099.0</td>\n      <td>0.413469</td>\n    </tr>\n    <tr>\n      <th>2013</th>\n      <td>2705</td>\n      <td>2.916667</td>\n      <td>460.0</td>\n      <td>0.170055</td>\n    </tr>\n  </tbody>\n</table>\n</div>"
     },
     "metadata": {},
     "execution_count": 14
    }
   ],
   "source": [
    "missing_by_yr['missing%'] = missing_by_yr['gpa_9_missing']/missing_by_yr['student_lookup']\n",
    "missing_by_yr"
   ]
  },
  {
   "source": [
    "## Median gpa imputation results in a pretty high GPA overall"
   ],
   "cell_type": "markdown",
   "metadata": {}
  },
  {
   "cell_type": "code",
   "execution_count": 18,
   "metadata": {},
   "outputs": [],
   "source": [
    "by_school = data.groupby(['school_year', 'school_10']).agg({'student_lookup':'count','gpa_9_missing':'sum'})"
   ]
  },
  {
   "cell_type": "code",
   "execution_count": 19,
   "metadata": {},
   "outputs": [
    {
     "output_type": "execute_result",
     "data": {
      "text/plain": [
       "                                        student_lookup  gpa_9_missing  \\\n",
       "school_year school_10                                                   \n",
       "2007        COSHOCTON CITY HIGH SCHOOL             171           70.0   \n",
       "            Maysville High School                  198           22.0   \n",
       "            PHILO HIGH SCHOOL                      217           13.0   \n",
       "            RIDGEWOOD HIGH SCHOOL                  131            2.0   \n",
       "            RIVER VIEW HIGH SCHOOL                 197            3.0   \n",
       "...                                                ...            ...   \n",
       "2013        River View High School                 189           19.0   \n",
       "            Sheridan High School                   185            4.0   \n",
       "            Tri-Valley High School                 283           47.0   \n",
       "            West Muskingum High School             138           11.0   \n",
       "            Zanesville High School                 245          231.0   \n",
       "\n",
       "                                        missing%  \n",
       "school_year school_10                             \n",
       "2007        COSHOCTON CITY HIGH SCHOOL  0.409357  \n",
       "            Maysville High School       0.111111  \n",
       "            PHILO HIGH SCHOOL           0.059908  \n",
       "            RIDGEWOOD HIGH SCHOOL       0.015267  \n",
       "            RIVER VIEW HIGH SCHOOL      0.015228  \n",
       "...                                          ...  \n",
       "2013        River View High School      0.100529  \n",
       "            Sheridan High School        0.021622  \n",
       "            Tri-Valley High School      0.166078  \n",
       "            West Muskingum High School  0.079710  \n",
       "            Zanesville High School      0.942857  \n",
       "\n",
       "[77 rows x 3 columns]"
      ],
      "text/html": "<div>\n<style scoped>\n    .dataframe tbody tr th:only-of-type {\n        vertical-align: middle;\n    }\n\n    .dataframe tbody tr th {\n        vertical-align: top;\n    }\n\n    .dataframe thead th {\n        text-align: right;\n    }\n</style>\n<table border=\"1\" class=\"dataframe\">\n  <thead>\n    <tr style=\"text-align: right;\">\n      <th></th>\n      <th></th>\n      <th>student_lookup</th>\n      <th>gpa_9_missing</th>\n      <th>missing%</th>\n    </tr>\n    <tr>\n      <th>school_year</th>\n      <th>school_10</th>\n      <th></th>\n      <th></th>\n      <th></th>\n    </tr>\n  </thead>\n  <tbody>\n    <tr>\n      <th rowspan=\"5\" valign=\"top\">2007</th>\n      <th>COSHOCTON CITY HIGH SCHOOL</th>\n      <td>171</td>\n      <td>70.0</td>\n      <td>0.409357</td>\n    </tr>\n    <tr>\n      <th>Maysville High School</th>\n      <td>198</td>\n      <td>22.0</td>\n      <td>0.111111</td>\n    </tr>\n    <tr>\n      <th>PHILO HIGH SCHOOL</th>\n      <td>217</td>\n      <td>13.0</td>\n      <td>0.059908</td>\n    </tr>\n    <tr>\n      <th>RIDGEWOOD HIGH SCHOOL</th>\n      <td>131</td>\n      <td>2.0</td>\n      <td>0.015267</td>\n    </tr>\n    <tr>\n      <th>RIVER VIEW HIGH SCHOOL</th>\n      <td>197</td>\n      <td>3.0</td>\n      <td>0.015228</td>\n    </tr>\n    <tr>\n      <th>...</th>\n      <th>...</th>\n      <td>...</td>\n      <td>...</td>\n      <td>...</td>\n    </tr>\n    <tr>\n      <th rowspan=\"5\" valign=\"top\">2013</th>\n      <th>River View High School</th>\n      <td>189</td>\n      <td>19.0</td>\n      <td>0.100529</td>\n    </tr>\n    <tr>\n      <th>Sheridan High School</th>\n      <td>185</td>\n      <td>4.0</td>\n      <td>0.021622</td>\n    </tr>\n    <tr>\n      <th>Tri-Valley High School</th>\n      <td>283</td>\n      <td>47.0</td>\n      <td>0.166078</td>\n    </tr>\n    <tr>\n      <th>West Muskingum High School</th>\n      <td>138</td>\n      <td>11.0</td>\n      <td>0.079710</td>\n    </tr>\n    <tr>\n      <th>Zanesville High School</th>\n      <td>245</td>\n      <td>231.0</td>\n      <td>0.942857</td>\n    </tr>\n  </tbody>\n</table>\n<p>77 rows × 3 columns</p>\n</div>"
     },
     "metadata": {},
     "execution_count": 19
    }
   ],
   "source": [
    "by_school['missing%'] = by_school['gpa_9_missing']/by_school['student_lookup']\n",
    "by_school"
   ]
  },
  {
   "cell_type": "code",
   "execution_count": 20,
   "metadata": {},
   "outputs": [
    {
     "output_type": "execute_result",
     "data": {
      "text/plain": [
       "school_10        COHI  COSHOCTON CITY HIGH SCHOOL  Coshocton High School  \\\n",
       "school_year                                                                \n",
       "2007              NaN                    0.409357                    NaN   \n",
       "2008         0.401099                         NaN                    NaN   \n",
       "2009         0.371257                         NaN                    NaN   \n",
       "2010         0.431507                         NaN                    NaN   \n",
       "2011              NaN                         NaN               0.351351   \n",
       "2012              NaN                         NaN               0.053333   \n",
       "2013              NaN                         NaN               0.058442   \n",
       "\n",
       "school_10    Crooksville High School  EMHS      FPHS  John Glenn High School  \\\n",
       "school_year                                                                    \n",
       "2007                             NaN   NaN       NaN                     NaN   \n",
       "2008                             NaN   NaN  0.030303                     NaN   \n",
       "2009                             NaN   NaN  0.093407                     NaN   \n",
       "2010                        0.010870   1.0  0.110497                0.016854   \n",
       "2011                        0.180952   NaN       NaN                0.196721   \n",
       "2012                        0.157480   NaN       NaN                0.164835   \n",
       "2013                        0.125000   NaN       NaN                0.094737   \n",
       "\n",
       "school_10    Logan High School      MAHS  Maysville High School  ...  \\\n",
       "school_year                                                      ...   \n",
       "2007                       NaN       NaN               0.111111  ...   \n",
       "2008                       NaN  0.026455                    NaN  ...   \n",
       "2009                       NaN  0.065574                    NaN  ...   \n",
       "2010                       NaN  0.058296                    NaN  ...   \n",
       "2011                  0.000000       NaN               0.075581  ...   \n",
       "2012                  0.925000       NaN               0.096939  ...   \n",
       "2013                  0.014409       NaN               0.065000  ...   \n",
       "\n",
       "school_10        RVHS  Ridgewood High School  River View High School  \\\n",
       "school_year                                                            \n",
       "2007              NaN                    NaN                     NaN   \n",
       "2008         0.014706                    NaN                     NaN   \n",
       "2009         0.049751                    NaN                     NaN   \n",
       "2010         0.095960                    NaN                     NaN   \n",
       "2011              NaN               0.113402                0.108247   \n",
       "2012              NaN               0.099010                0.058824   \n",
       "2013              NaN               0.100000                0.100529   \n",
       "\n",
       "school_10    Sheridan High School      TVHS  Tri-Valley High School      WMHS  \\\n",
       "school_year                                                                     \n",
       "2007                          NaN       NaN                0.031250       NaN   \n",
       "2008                          NaN  0.031359                     NaN  0.074324   \n",
       "2009                          NaN  0.017730                     NaN  0.106383   \n",
       "2010                          NaN  0.026119                     NaN  0.035461   \n",
       "2011                     0.000000       NaN                0.023904       NaN   \n",
       "2012                     0.965000       NaN                0.200787       NaN   \n",
       "2013                     0.021622       NaN                0.166078       NaN   \n",
       "\n",
       "school_10    West Muskingum High School  Zanesville CCFD  \\\n",
       "school_year                                                \n",
       "2007                           0.158228              NaN   \n",
       "2008                                NaN              NaN   \n",
       "2009                                NaN              NaN   \n",
       "2010                                NaN              NaN   \n",
       "2011                           0.092308         0.333333   \n",
       "2012                           0.086957         0.333333   \n",
       "2013                           0.079710              NaN   \n",
       "\n",
       "school_10    Zanesville High School  \n",
       "school_year                          \n",
       "2007                            NaN  \n",
       "2008                            NaN  \n",
       "2009                            NaN  \n",
       "2010                            NaN  \n",
       "2011                       0.059211  \n",
       "2012                       0.921311  \n",
       "2013                       0.942857  \n",
       "\n",
       "[7 rows x 28 columns]"
      ],
      "text/html": "<div>\n<style scoped>\n    .dataframe tbody tr th:only-of-type {\n        vertical-align: middle;\n    }\n\n    .dataframe tbody tr th {\n        vertical-align: top;\n    }\n\n    .dataframe thead th {\n        text-align: right;\n    }\n</style>\n<table border=\"1\" class=\"dataframe\">\n  <thead>\n    <tr style=\"text-align: right;\">\n      <th>school_10</th>\n      <th>COHI</th>\n      <th>COSHOCTON CITY HIGH SCHOOL</th>\n      <th>Coshocton High School</th>\n      <th>Crooksville High School</th>\n      <th>EMHS</th>\n      <th>FPHS</th>\n      <th>John Glenn High School</th>\n      <th>Logan High School</th>\n      <th>MAHS</th>\n      <th>Maysville High School</th>\n      <th>...</th>\n      <th>RVHS</th>\n      <th>Ridgewood High School</th>\n      <th>River View High School</th>\n      <th>Sheridan High School</th>\n      <th>TVHS</th>\n      <th>Tri-Valley High School</th>\n      <th>WMHS</th>\n      <th>West Muskingum High School</th>\n      <th>Zanesville CCFD</th>\n      <th>Zanesville High School</th>\n    </tr>\n    <tr>\n      <th>school_year</th>\n      <th></th>\n      <th></th>\n      <th></th>\n      <th></th>\n      <th></th>\n      <th></th>\n      <th></th>\n      <th></th>\n      <th></th>\n      <th></th>\n      <th></th>\n      <th></th>\n      <th></th>\n      <th></th>\n      <th></th>\n      <th></th>\n      <th></th>\n      <th></th>\n      <th></th>\n      <th></th>\n      <th></th>\n    </tr>\n  </thead>\n  <tbody>\n    <tr>\n      <th>2007</th>\n      <td>NaN</td>\n      <td>0.409357</td>\n      <td>NaN</td>\n      <td>NaN</td>\n      <td>NaN</td>\n      <td>NaN</td>\n      <td>NaN</td>\n      <td>NaN</td>\n      <td>NaN</td>\n      <td>0.111111</td>\n      <td>...</td>\n      <td>NaN</td>\n      <td>NaN</td>\n      <td>NaN</td>\n      <td>NaN</td>\n      <td>NaN</td>\n      <td>0.031250</td>\n      <td>NaN</td>\n      <td>0.158228</td>\n      <td>NaN</td>\n      <td>NaN</td>\n    </tr>\n    <tr>\n      <th>2008</th>\n      <td>0.401099</td>\n      <td>NaN</td>\n      <td>NaN</td>\n      <td>NaN</td>\n      <td>NaN</td>\n      <td>0.030303</td>\n      <td>NaN</td>\n      <td>NaN</td>\n      <td>0.026455</td>\n      <td>NaN</td>\n      <td>...</td>\n      <td>0.014706</td>\n      <td>NaN</td>\n      <td>NaN</td>\n      <td>NaN</td>\n      <td>0.031359</td>\n      <td>NaN</td>\n      <td>0.074324</td>\n      <td>NaN</td>\n      <td>NaN</td>\n      <td>NaN</td>\n    </tr>\n    <tr>\n      <th>2009</th>\n      <td>0.371257</td>\n      <td>NaN</td>\n      <td>NaN</td>\n      <td>NaN</td>\n      <td>NaN</td>\n      <td>0.093407</td>\n      <td>NaN</td>\n      <td>NaN</td>\n      <td>0.065574</td>\n      <td>NaN</td>\n      <td>...</td>\n      <td>0.049751</td>\n      <td>NaN</td>\n      <td>NaN</td>\n      <td>NaN</td>\n      <td>0.017730</td>\n      <td>NaN</td>\n      <td>0.106383</td>\n      <td>NaN</td>\n      <td>NaN</td>\n      <td>NaN</td>\n    </tr>\n    <tr>\n      <th>2010</th>\n      <td>0.431507</td>\n      <td>NaN</td>\n      <td>NaN</td>\n      <td>0.010870</td>\n      <td>1.0</td>\n      <td>0.110497</td>\n      <td>0.016854</td>\n      <td>NaN</td>\n      <td>0.058296</td>\n      <td>NaN</td>\n      <td>...</td>\n      <td>0.095960</td>\n      <td>NaN</td>\n      <td>NaN</td>\n      <td>NaN</td>\n      <td>0.026119</td>\n      <td>NaN</td>\n      <td>0.035461</td>\n      <td>NaN</td>\n      <td>NaN</td>\n      <td>NaN</td>\n    </tr>\n    <tr>\n      <th>2011</th>\n      <td>NaN</td>\n      <td>NaN</td>\n      <td>0.351351</td>\n      <td>0.180952</td>\n      <td>NaN</td>\n      <td>NaN</td>\n      <td>0.196721</td>\n      <td>0.000000</td>\n      <td>NaN</td>\n      <td>0.075581</td>\n      <td>...</td>\n      <td>NaN</td>\n      <td>0.113402</td>\n      <td>0.108247</td>\n      <td>0.000000</td>\n      <td>NaN</td>\n      <td>0.023904</td>\n      <td>NaN</td>\n      <td>0.092308</td>\n      <td>0.333333</td>\n      <td>0.059211</td>\n    </tr>\n    <tr>\n      <th>2012</th>\n      <td>NaN</td>\n      <td>NaN</td>\n      <td>0.053333</td>\n      <td>0.157480</td>\n      <td>NaN</td>\n      <td>NaN</td>\n      <td>0.164835</td>\n      <td>0.925000</td>\n      <td>NaN</td>\n      <td>0.096939</td>\n      <td>...</td>\n      <td>NaN</td>\n      <td>0.099010</td>\n      <td>0.058824</td>\n      <td>0.965000</td>\n      <td>NaN</td>\n      <td>0.200787</td>\n      <td>NaN</td>\n      <td>0.086957</td>\n      <td>0.333333</td>\n      <td>0.921311</td>\n    </tr>\n    <tr>\n      <th>2013</th>\n      <td>NaN</td>\n      <td>NaN</td>\n      <td>0.058442</td>\n      <td>0.125000</td>\n      <td>NaN</td>\n      <td>NaN</td>\n      <td>0.094737</td>\n      <td>0.014409</td>\n      <td>NaN</td>\n      <td>0.065000</td>\n      <td>...</td>\n      <td>NaN</td>\n      <td>0.100000</td>\n      <td>0.100529</td>\n      <td>0.021622</td>\n      <td>NaN</td>\n      <td>0.166078</td>\n      <td>NaN</td>\n      <td>0.079710</td>\n      <td>NaN</td>\n      <td>0.942857</td>\n    </tr>\n  </tbody>\n</table>\n<p>7 rows × 28 columns</p>\n</div>"
     },
     "metadata": {},
     "execution_count": 20
    }
   ],
   "source": [
    "by_school.unstack(1).loc[:,'missing%']"
   ]
  },
  {
   "source": [
    "## Zanesville has effectively no gpas available in latter years; \n",
    "## Missingness comes in these 3-year spurts, and it must be related in some way to linking ninth grade data onto the student_lookup when that student is in the 10th grade... "
   ],
   "cell_type": "markdown",
   "metadata": {}
  },
  {
   "cell_type": "code",
   "execution_count": 23,
   "metadata": {},
   "outputs": [
    {
     "output_type": "execute_result",
     "data": {
      "text/plain": [
       "                school_year               school_10               school_9  \\\n",
       "student_lookup                                                               \n",
       "35993                  2011       Philo High School                   FPHS   \n",
       "39939                  2010                    RVHS                    NaN   \n",
       "52418                  2011  River View High School                   RVHS   \n",
       "9028                   2013   Ridgewood High School  Ridgewood High School   \n",
       "829                    2013   Coshocton High School  Coshocton High School   \n",
       "\n",
       "                   gpa_9  gpa_9_missing  school_gpa_9_rank  \\\n",
       "student_lookup                                               \n",
       "35993                NaN            1.0              153.0   \n",
       "39939                NaN            NaN                NaN   \n",
       "52418           1.222222            0.0              126.0   \n",
       "9028                 NaN            1.0               89.0   \n",
       "829             3.156250            0.0               36.0   \n",
       "\n",
       "                school_gpa_9_decile  \n",
       "student_lookup                       \n",
       "35993                           NaN  \n",
       "39939                           NaN  \n",
       "52418                          10.0  \n",
       "9028                            NaN  \n",
       "829                             3.0  "
      ],
      "text/html": "<div>\n<style scoped>\n    .dataframe tbody tr th:only-of-type {\n        vertical-align: middle;\n    }\n\n    .dataframe tbody tr th {\n        vertical-align: top;\n    }\n\n    .dataframe thead th {\n        text-align: right;\n    }\n</style>\n<table border=\"1\" class=\"dataframe\">\n  <thead>\n    <tr style=\"text-align: right;\">\n      <th></th>\n      <th>school_year</th>\n      <th>school_10</th>\n      <th>school_9</th>\n      <th>gpa_9</th>\n      <th>gpa_9_missing</th>\n      <th>school_gpa_9_rank</th>\n      <th>school_gpa_9_decile</th>\n    </tr>\n    <tr>\n      <th>student_lookup</th>\n      <th></th>\n      <th></th>\n      <th></th>\n      <th></th>\n      <th></th>\n      <th></th>\n      <th></th>\n    </tr>\n  </thead>\n  <tbody>\n    <tr>\n      <th>35993</th>\n      <td>2011</td>\n      <td>Philo High School</td>\n      <td>FPHS</td>\n      <td>NaN</td>\n      <td>1.0</td>\n      <td>153.0</td>\n      <td>NaN</td>\n    </tr>\n    <tr>\n      <th>39939</th>\n      <td>2010</td>\n      <td>RVHS</td>\n      <td>NaN</td>\n      <td>NaN</td>\n      <td>NaN</td>\n      <td>NaN</td>\n      <td>NaN</td>\n    </tr>\n    <tr>\n      <th>52418</th>\n      <td>2011</td>\n      <td>River View High School</td>\n      <td>RVHS</td>\n      <td>1.222222</td>\n      <td>0.0</td>\n      <td>126.0</td>\n      <td>10.0</td>\n    </tr>\n    <tr>\n      <th>9028</th>\n      <td>2013</td>\n      <td>Ridgewood High School</td>\n      <td>Ridgewood High School</td>\n      <td>NaN</td>\n      <td>1.0</td>\n      <td>89.0</td>\n      <td>NaN</td>\n    </tr>\n    <tr>\n      <th>829</th>\n      <td>2013</td>\n      <td>Coshocton High School</td>\n      <td>Coshocton High School</td>\n      <td>3.156250</td>\n      <td>0.0</td>\n      <td>36.0</td>\n      <td>3.0</td>\n    </tr>\n  </tbody>\n</table>\n</div>"
     },
     "metadata": {},
     "execution_count": 23
    }
   ],
   "source": [
    "test = data.set_index('student_lookup')\n",
    "test.head()"
   ]
  },
  {
   "cell_type": "code",
   "execution_count": 28,
   "metadata": {},
   "outputs": [
    {
     "output_type": "execute_result",
     "data": {
      "text/plain": [
       "                   gpa_9  gpa_9_missing  school_gpa_9_rank  \\\n",
       "student_lookup                                               \n",
       "35993                NaN            1.0              153.0   \n",
       "39939                NaN            NaN                NaN   \n",
       "52418           1.222222            0.0              126.0   \n",
       "9028                 NaN            1.0               89.0   \n",
       "829             3.156250            0.0               36.0   \n",
       "...                  ...            ...                ...   \n",
       "41836                NaN            1.0                2.0   \n",
       "13710           3.876667            0.0               10.0   \n",
       "4992            2.013333            0.0              123.0   \n",
       "16793           1.300000            0.0               88.0   \n",
       "69529           0.352000            0.0               89.0   \n",
       "\n",
       "                school_gpa_9_decile  \n",
       "student_lookup                       \n",
       "35993                           NaN  \n",
       "39939                           NaN  \n",
       "52418                          10.0  \n",
       "9028                            NaN  \n",
       "829                             3.0  \n",
       "...                             ...  \n",
       "41836                           NaN  \n",
       "13710                           1.0  \n",
       "4992                            9.0  \n",
       "16793                          10.0  \n",
       "69529                          10.0  \n",
       "\n",
       "[13293 rows x 4 columns]"
      ],
      "text/html": "<div>\n<style scoped>\n    .dataframe tbody tr th:only-of-type {\n        vertical-align: middle;\n    }\n\n    .dataframe tbody tr th {\n        vertical-align: top;\n    }\n\n    .dataframe thead th {\n        text-align: right;\n    }\n</style>\n<table border=\"1\" class=\"dataframe\">\n  <thead>\n    <tr style=\"text-align: right;\">\n      <th></th>\n      <th>gpa_9</th>\n      <th>gpa_9_missing</th>\n      <th>school_gpa_9_rank</th>\n      <th>school_gpa_9_decile</th>\n    </tr>\n    <tr>\n      <th>student_lookup</th>\n      <th></th>\n      <th></th>\n      <th></th>\n      <th></th>\n    </tr>\n  </thead>\n  <tbody>\n    <tr>\n      <th>35993</th>\n      <td>NaN</td>\n      <td>1.0</td>\n      <td>153.0</td>\n      <td>NaN</td>\n    </tr>\n    <tr>\n      <th>39939</th>\n      <td>NaN</td>\n      <td>NaN</td>\n      <td>NaN</td>\n      <td>NaN</td>\n    </tr>\n    <tr>\n      <th>52418</th>\n      <td>1.222222</td>\n      <td>0.0</td>\n      <td>126.0</td>\n      <td>10.0</td>\n    </tr>\n    <tr>\n      <th>9028</th>\n      <td>NaN</td>\n      <td>1.0</td>\n      <td>89.0</td>\n      <td>NaN</td>\n    </tr>\n    <tr>\n      <th>829</th>\n      <td>3.156250</td>\n      <td>0.0</td>\n      <td>36.0</td>\n      <td>3.0</td>\n    </tr>\n    <tr>\n      <th>...</th>\n      <td>...</td>\n      <td>...</td>\n      <td>...</td>\n      <td>...</td>\n    </tr>\n    <tr>\n      <th>41836</th>\n      <td>NaN</td>\n      <td>1.0</td>\n      <td>2.0</td>\n      <td>NaN</td>\n    </tr>\n    <tr>\n      <th>13710</th>\n      <td>3.876667</td>\n      <td>0.0</td>\n      <td>10.0</td>\n      <td>1.0</td>\n    </tr>\n    <tr>\n      <th>4992</th>\n      <td>2.013333</td>\n      <td>0.0</td>\n      <td>123.0</td>\n      <td>9.0</td>\n    </tr>\n    <tr>\n      <th>16793</th>\n      <td>1.300000</td>\n      <td>0.0</td>\n      <td>88.0</td>\n      <td>10.0</td>\n    </tr>\n    <tr>\n      <th>69529</th>\n      <td>0.352000</td>\n      <td>0.0</td>\n      <td>89.0</td>\n      <td>10.0</td>\n    </tr>\n  </tbody>\n</table>\n<p>13293 rows × 4 columns</p>\n</div>"
     },
     "metadata": {},
     "execution_count": 28
    }
   ],
   "source": [
    "test.iloc[:,3:]"
   ]
  },
  {
   "source": [
    "## Running through feature_ranker to check again - it looks like it works, but will be highly contingent on how we impute GPA. A GPA = NaN puts it at the TOP when ranking (i.e., above a 4.0 gpa). Imputing gives a pretty high replacement GPA, and we could likely suspect this to be false. For example, some of the NULL values might be because a student failed to pass the 9th grade and needed to repeat, which could make their \"first\" 9th grade year GPA null, but their \"second\" ninth grade year actually has one. "
   ],
   "cell_type": "markdown",
   "metadata": {}
  },
  {
   "cell_type": "code",
   "execution_count": 30,
   "metadata": {},
   "outputs": [
    {
     "output_type": "execute_result",
     "data": {
      "text/plain": [
       "array([       nan,        nan, 1.22222222,        nan, 3.15625   ,\n",
       "       3.3       ,        nan, 2.68709677, 2.87118644,        nan])"
      ]
     },
     "metadata": {},
     "execution_count": 30
    }
   ],
   "source": [
    "x = test.iloc[:,3:].to_numpy(dtype=np.float)[:,0]\n",
    "x[:10]"
   ]
  },
  {
   "cell_type": "code",
   "execution_count": 31,
   "metadata": {},
   "outputs": [],
   "source": [
    "from scipy import stats\n",
    "method = \"max\"\n",
    "subtract = 0"
   ]
  },
  {
   "cell_type": "code",
   "execution_count": 32,
   "metadata": {},
   "outputs": [
    {
     "output_type": "execute_result",
     "data": {
      "text/plain": [
       "array([13293,  9510,   457,  9519,  5847,  6399,  9536,  4020,  4752,\n",
       "        9526])"
      ]
     },
     "metadata": {},
     "execution_count": 32
    }
   ],
   "source": [
    "ranks = stats.rankdata(x, method)\n",
    "ranks[:10]"
   ]
  },
  {
   "cell_type": "code",
   "execution_count": 33,
   "metadata": {},
   "outputs": [
    {
     "output_type": "execute_result",
     "data": {
      "text/plain": [
       "[1.0,\n",
       " 0.7154141277364027,\n",
       " 0.03437899646430452,\n",
       " 0.7160911758068156,\n",
       " 0.4398555630783119,\n",
       " 0.4813811780636425,\n",
       " 0.7173700443842624,\n",
       " 0.302414804784473,\n",
       " 0.35748138117806366,\n",
       " 0.7166177687504701]"
      ]
     },
     "metadata": {},
     "execution_count": 33
    }
   ],
   "source": [
    "ranks = [(rank - subtract) / x.shape[0] for rank in ranks]\n",
    "ranks[:10]"
   ]
  },
  {
   "cell_type": "code",
   "execution_count": 34,
   "metadata": {},
   "outputs": [
    {
     "output_type": "execute_result",
     "data": {
      "text/plain": [
       "[0.0,\n",
       " 0.28458587226359733,\n",
       " 0.9656210035356955,\n",
       " 0.2839088241931844,\n",
       " 0.5601444369216881,\n",
       " 0.5186188219363574,\n",
       " 0.28262995561573756,\n",
       " 0.697585195215527,\n",
       " 0.6425186188219363,\n",
       " 0.2833822312495299]"
      ]
     },
     "metadata": {},
     "execution_count": 34
    }
   ],
   "source": [
    "if method == 'max':\n",
    "    ranks = [1 - rank for rank in ranks]\n",
    "ranks[:10]"
   ]
  },
  {
   "cell_type": "code",
   "execution_count": 35,
   "metadata": {},
   "outputs": [
    {
     "output_type": "execute_result",
     "data": {
      "text/plain": [
       "array([0.        , 0.28458587, 0.965621  , ..., 0.86255924, 0.95870007,\n",
       "       0.99759272])"
      ]
     },
     "metadata": {},
     "execution_count": 35
    }
   ],
   "source": [
    "risks = np.array(ranks)\n",
    "risks\n"
   ]
  },
  {
   "cell_type": "code",
   "execution_count": 36,
   "metadata": {},
   "outputs": [
    {
     "output_type": "execute_result",
     "data": {
      "text/plain": [
       "array([1.        , 0.71541413, 0.034379  , ..., 0.13744076, 0.04129993,\n",
       "       0.00240728])"
      ]
     },
     "metadata": {},
     "execution_count": 36
    }
   ],
   "source": [
    "converse_risks = 1 - risks.copy()\n",
    "converse_risks"
   ]
  },
  {
   "cell_type": "code",
   "execution_count": 37,
   "metadata": {},
   "outputs": [
    {
     "output_type": "execute_result",
     "data": {
      "text/plain": [
       "array([0.        , 0.28458587, 0.965621  , ..., 0.86255924, 0.95870007,\n",
       "       0.99759272])"
      ]
     },
     "metadata": {},
     "execution_count": 37
    }
   ],
   "source": [
    "raw_risks = np.stack([converse_risks, risks], axis=-1)\n",
    "raw_risks[:, 1]"
   ]
  },
  {
   "cell_type": "code",
   "execution_count": 38,
   "metadata": {},
   "outputs": [
    {
     "output_type": "execute_result",
     "data": {
      "text/plain": [
       "                    Risk\n",
       "student_lookup          \n",
       "35993           0.000000\n",
       "39939           0.284586\n",
       "52418           0.965621\n",
       "9028            0.283909\n",
       "829             0.560144\n",
       "37939           0.518619\n",
       "36721           0.282630\n",
       "34638           0.697585\n",
       "33383           0.642519\n",
       "38110           0.283382"
      ],
      "text/html": "<div>\n<style scoped>\n    .dataframe tbody tr th:only-of-type {\n        vertical-align: middle;\n    }\n\n    .dataframe tbody tr th {\n        vertical-align: top;\n    }\n\n    .dataframe thead th {\n        text-align: right;\n    }\n</style>\n<table border=\"1\" class=\"dataframe\">\n  <thead>\n    <tr style=\"text-align: right;\">\n      <th></th>\n      <th>Risk</th>\n    </tr>\n    <tr>\n      <th>student_lookup</th>\n      <th></th>\n    </tr>\n  </thead>\n  <tbody>\n    <tr>\n      <th>35993</th>\n      <td>0.000000</td>\n    </tr>\n    <tr>\n      <th>39939</th>\n      <td>0.284586</td>\n    </tr>\n    <tr>\n      <th>52418</th>\n      <td>0.965621</td>\n    </tr>\n    <tr>\n      <th>9028</th>\n      <td>0.283909</td>\n    </tr>\n    <tr>\n      <th>829</th>\n      <td>0.560144</td>\n    </tr>\n    <tr>\n      <th>37939</th>\n      <td>0.518619</td>\n    </tr>\n    <tr>\n      <th>36721</th>\n      <td>0.282630</td>\n    </tr>\n    <tr>\n      <th>34638</th>\n      <td>0.697585</td>\n    </tr>\n    <tr>\n      <th>33383</th>\n      <td>0.642519</td>\n    </tr>\n    <tr>\n      <th>38110</th>\n      <td>0.283382</td>\n    </tr>\n  </tbody>\n</table>\n</div>"
     },
     "metadata": {},
     "execution_count": 38
    }
   ],
   "source": [
    "pd.DataFrame(index=test.index,\n",
    "                    data=raw_risks[:, 1],\n",
    "                    columns=[\"Risk\"])[:10]"
   ]
  },
  {
   "cell_type": "code",
   "execution_count": 39,
   "metadata": {},
   "outputs": [
    {
     "output_type": "execute_result",
     "data": {
      "text/plain": [
       "school_year                              2011\n",
       "school_10              River View High School\n",
       "school_9                                 RVHS\n",
       "gpa_9                                 1.22222\n",
       "gpa_9_missing                               0\n",
       "school_gpa_9_rank                         126\n",
       "school_gpa_9_decile                        10\n",
       "Name: 52418, dtype: object"
      ]
     },
     "metadata": {},
     "execution_count": 39
    }
   ],
   "source": [
    "test.loc[52418]"
   ]
  },
  {
   "cell_type": "code",
   "execution_count": 108,
   "metadata": {},
   "outputs": [
    {
     "output_type": "execute_result",
     "data": {
      "text/plain": [
       "school_year                          2013\n",
       "school                  Logan High School\n",
       "gpa_9                  2.9729729729729730\n",
       "gpa_9_missing                           0\n",
       "school_gpa_9_rank                     182\n",
       "school_gpa_9_decile                     6\n",
       "Name: 14467, dtype: object"
      ]
     },
     "metadata": {},
     "execution_count": 108
    }
   ],
   "source": [
    "test.loc[14467]"
   ]
  }
 ]
}